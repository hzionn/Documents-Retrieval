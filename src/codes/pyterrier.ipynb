{
  "cells": [
    {
      "cell_type": "markdown",
      "metadata": {
        "id": "02LWni9vxJFW"
      },
      "source": [
        "# Installation"
      ]
    },
    {
      "cell_type": "code",
      "execution_count": 8,
      "metadata": {
        "colab": {
          "base_uri": "https://localhost:8080/"
        },
        "id": "SYDWR052wvBf",
        "outputId": "cfaff60c-bb6f-4715-a07d-437b22a806b7"
      },
      "outputs": [],
      "source": [
        "import pyterrier as pt\n",
        "from pyterrier.measures import *\n",
        "import os\n",
        "\n",
        "working_dir = os.path.dirname(os.getcwd())"
      ]
    },
    {
      "cell_type": "code",
      "execution_count": 7,
      "metadata": {},
      "outputs": [],
      "source": [
        "if not pt.started():\n",
        "    pt.init()"
      ]
    },
    {
      "cell_type": "markdown",
      "metadata": {
        "id": "ubWSStyPxxSd"
      },
      "source": [
        "# Indexing"
      ]
    },
    {
      "cell_type": "code",
      "execution_count": 3,
      "metadata": {},
      "outputs": [
        {
          "name": "stdout",
          "output_type": "stream",
          "text": [
            "/Users/zionn/Documents/github/Documents-Retrieval\n"
          ]
        }
      ],
      "source": [
        "print(os.path.dirname(os.getcwd()))"
      ]
    },
    {
      "cell_type": "code",
      "execution_count": 4,
      "metadata": {},
      "outputs": [
        {
          "name": "stdout",
          "output_type": "stream",
          "text": [
            "['/Users/zionn/Documents/github/Documents-Retrieval/WT2G/Wt01/B01', '/Users/zionn/Documents/github/Documents-Retrieval/WT2G/Wt01/B02', '/Users/zionn/Documents/github/Documents-Retrieval/WT2G/Wt01/B03', '/Users/zionn/Documents/github/Documents-Retrieval/WT2G/Wt01/B04', '/Users/zionn/Documents/github/Documents-Retrieval/WT2G/Wt01/B05', '/Users/zionn/Documents/github/Documents-Retrieval/WT2G/Wt01/B06', '/Users/zionn/Documents/github/Documents-Retrieval/WT2G/Wt01/B07', '/Users/zionn/Documents/github/Documents-Retrieval/WT2G/Wt01/B08', '/Users/zionn/Documents/github/Documents-Retrieval/WT2G/Wt01/B09', '/Users/zionn/Documents/github/Documents-Retrieval/WT2G/Wt01/B10', '/Users/zionn/Documents/github/Documents-Retrieval/WT2G/Wt01/B11', '/Users/zionn/Documents/github/Documents-Retrieval/WT2G/Wt01/B12', '/Users/zionn/Documents/github/Documents-Retrieval/WT2G/Wt01/B13', '/Users/zionn/Documents/github/Documents-Retrieval/WT2G/Wt01/B14', '/Users/zionn/Documents/github/Documents-Retrieval/WT2G/Wt01/B15', '/Users/zionn/Documents/github/Documents-Retrieval/WT2G/Wt01/B16', '/Users/zionn/Documents/github/Documents-Retrieval/WT2G/Wt01/B17', '/Users/zionn/Documents/github/Documents-Retrieval/WT2G/Wt01/B18', '/Users/zionn/Documents/github/Documents-Retrieval/WT2G/Wt01/B19', '/Users/zionn/Documents/github/Documents-Retrieval/WT2G/Wt01/B20', '/Users/zionn/Documents/github/Documents-Retrieval/WT2G/Wt01/B21', '/Users/zionn/Documents/github/Documents-Retrieval/WT2G/Wt01/B22', '/Users/zionn/Documents/github/Documents-Retrieval/WT2G/Wt01/B23', '/Users/zionn/Documents/github/Documents-Retrieval/WT2G/Wt01/B24', '/Users/zionn/Documents/github/Documents-Retrieval/WT2G/Wt01/B25', '/Users/zionn/Documents/github/Documents-Retrieval/WT2G/Wt01/B26', '/Users/zionn/Documents/github/Documents-Retrieval/WT2G/Wt01/B27', '/Users/zionn/Documents/github/Documents-Retrieval/WT2G/Wt01/B28', '/Users/zionn/Documents/github/Documents-Retrieval/WT2G/Wt01/B29', '/Users/zionn/Documents/github/Documents-Retrieval/WT2G/Wt01/B30', '/Users/zionn/Documents/github/Documents-Retrieval/WT2G/Wt01/B31', '/Users/zionn/Documents/github/Documents-Retrieval/WT2G/Wt01/B32', '/Users/zionn/Documents/github/Documents-Retrieval/WT2G/Wt01/B33', '/Users/zionn/Documents/github/Documents-Retrieval/WT2G/Wt01/B34', '/Users/zionn/Documents/github/Documents-Retrieval/WT2G/Wt01/B35', '/Users/zionn/Documents/github/Documents-Retrieval/WT2G/Wt01/B36', '/Users/zionn/Documents/github/Documents-Retrieval/WT2G/Wt01/B37', '/Users/zionn/Documents/github/Documents-Retrieval/WT2G/Wt01/B38', '/Users/zionn/Documents/github/Documents-Retrieval/WT2G/Wt01/B39', '/Users/zionn/Documents/github/Documents-Retrieval/WT2G/Wt01/B40', '/Users/zionn/Documents/github/Documents-Retrieval/WT2G/Wt02/B01', '/Users/zionn/Documents/github/Documents-Retrieval/WT2G/Wt02/B02', '/Users/zionn/Documents/github/Documents-Retrieval/WT2G/Wt02/B03', '/Users/zionn/Documents/github/Documents-Retrieval/WT2G/Wt02/B04', '/Users/zionn/Documents/github/Documents-Retrieval/WT2G/Wt02/B05', '/Users/zionn/Documents/github/Documents-Retrieval/WT2G/Wt02/B06', '/Users/zionn/Documents/github/Documents-Retrieval/WT2G/Wt02/B07', '/Users/zionn/Documents/github/Documents-Retrieval/WT2G/Wt02/B08', '/Users/zionn/Documents/github/Documents-Retrieval/WT2G/Wt02/B09', '/Users/zionn/Documents/github/Documents-Retrieval/WT2G/Wt02/B10', '/Users/zionn/Documents/github/Documents-Retrieval/WT2G/Wt02/B11', '/Users/zionn/Documents/github/Documents-Retrieval/WT2G/Wt02/B12', '/Users/zionn/Documents/github/Documents-Retrieval/WT2G/Wt02/B13', '/Users/zionn/Documents/github/Documents-Retrieval/WT2G/Wt02/B14', '/Users/zionn/Documents/github/Documents-Retrieval/WT2G/Wt02/B15', '/Users/zionn/Documents/github/Documents-Retrieval/WT2G/Wt02/B16', '/Users/zionn/Documents/github/Documents-Retrieval/WT2G/Wt02/B17', '/Users/zionn/Documents/github/Documents-Retrieval/WT2G/Wt02/B18', '/Users/zionn/Documents/github/Documents-Retrieval/WT2G/Wt02/B19', '/Users/zionn/Documents/github/Documents-Retrieval/WT2G/Wt02/B20', '/Users/zionn/Documents/github/Documents-Retrieval/WT2G/Wt02/B21', '/Users/zionn/Documents/github/Documents-Retrieval/WT2G/Wt02/B22', '/Users/zionn/Documents/github/Documents-Retrieval/WT2G/Wt02/B23', '/Users/zionn/Documents/github/Documents-Retrieval/WT2G/Wt02/B24', '/Users/zionn/Documents/github/Documents-Retrieval/WT2G/Wt02/B25', '/Users/zionn/Documents/github/Documents-Retrieval/WT2G/Wt02/B26', '/Users/zionn/Documents/github/Documents-Retrieval/WT2G/Wt02/B27', '/Users/zionn/Documents/github/Documents-Retrieval/WT2G/Wt02/B28', '/Users/zionn/Documents/github/Documents-Retrieval/WT2G/Wt02/B29', '/Users/zionn/Documents/github/Documents-Retrieval/WT2G/Wt02/B30', '/Users/zionn/Documents/github/Documents-Retrieval/WT2G/Wt02/B31', '/Users/zionn/Documents/github/Documents-Retrieval/WT2G/Wt02/B32', '/Users/zionn/Documents/github/Documents-Retrieval/WT2G/Wt02/B33', '/Users/zionn/Documents/github/Documents-Retrieval/WT2G/Wt02/B34', '/Users/zionn/Documents/github/Documents-Retrieval/WT2G/Wt02/B35', '/Users/zionn/Documents/github/Documents-Retrieval/WT2G/Wt02/B36', '/Users/zionn/Documents/github/Documents-Retrieval/WT2G/Wt02/B37', '/Users/zionn/Documents/github/Documents-Retrieval/WT2G/Wt02/B38', '/Users/zionn/Documents/github/Documents-Retrieval/WT2G/Wt02/B39', '/Users/zionn/Documents/github/Documents-Retrieval/WT2G/Wt02/B40', '/Users/zionn/Documents/github/Documents-Retrieval/WT2G/Wt03/B01', '/Users/zionn/Documents/github/Documents-Retrieval/WT2G/Wt03/B02', '/Users/zionn/Documents/github/Documents-Retrieval/WT2G/Wt03/B03', '/Users/zionn/Documents/github/Documents-Retrieval/WT2G/Wt03/B04', '/Users/zionn/Documents/github/Documents-Retrieval/WT2G/Wt03/B05', '/Users/zionn/Documents/github/Documents-Retrieval/WT2G/Wt03/B06', '/Users/zionn/Documents/github/Documents-Retrieval/WT2G/Wt03/B07', '/Users/zionn/Documents/github/Documents-Retrieval/WT2G/Wt03/B08', '/Users/zionn/Documents/github/Documents-Retrieval/WT2G/Wt03/B09', '/Users/zionn/Documents/github/Documents-Retrieval/WT2G/Wt03/B10', '/Users/zionn/Documents/github/Documents-Retrieval/WT2G/Wt03/B11', '/Users/zionn/Documents/github/Documents-Retrieval/WT2G/Wt03/B12', '/Users/zionn/Documents/github/Documents-Retrieval/WT2G/Wt03/B13', '/Users/zionn/Documents/github/Documents-Retrieval/WT2G/Wt03/B14', '/Users/zionn/Documents/github/Documents-Retrieval/WT2G/Wt03/B15', '/Users/zionn/Documents/github/Documents-Retrieval/WT2G/Wt03/B16', '/Users/zionn/Documents/github/Documents-Retrieval/WT2G/Wt03/B17', '/Users/zionn/Documents/github/Documents-Retrieval/WT2G/Wt03/B18', '/Users/zionn/Documents/github/Documents-Retrieval/WT2G/Wt03/B19', '/Users/zionn/Documents/github/Documents-Retrieval/WT2G/Wt03/B20', '/Users/zionn/Documents/github/Documents-Retrieval/WT2G/Wt03/B21', '/Users/zionn/Documents/github/Documents-Retrieval/WT2G/Wt03/B22', '/Users/zionn/Documents/github/Documents-Retrieval/WT2G/Wt03/B23', '/Users/zionn/Documents/github/Documents-Retrieval/WT2G/Wt03/B24', '/Users/zionn/Documents/github/Documents-Retrieval/WT2G/Wt03/B25', '/Users/zionn/Documents/github/Documents-Retrieval/WT2G/Wt03/B26', '/Users/zionn/Documents/github/Documents-Retrieval/WT2G/Wt03/B27', '/Users/zionn/Documents/github/Documents-Retrieval/WT2G/Wt03/B28', '/Users/zionn/Documents/github/Documents-Retrieval/WT2G/Wt03/B29', '/Users/zionn/Documents/github/Documents-Retrieval/WT2G/Wt03/B30', '/Users/zionn/Documents/github/Documents-Retrieval/WT2G/Wt03/B31', '/Users/zionn/Documents/github/Documents-Retrieval/WT2G/Wt03/B32', '/Users/zionn/Documents/github/Documents-Retrieval/WT2G/Wt03/B33', '/Users/zionn/Documents/github/Documents-Retrieval/WT2G/Wt03/B34', '/Users/zionn/Documents/github/Documents-Retrieval/WT2G/Wt03/B35', '/Users/zionn/Documents/github/Documents-Retrieval/WT2G/Wt03/B36', '/Users/zionn/Documents/github/Documents-Retrieval/WT2G/Wt03/B37', '/Users/zionn/Documents/github/Documents-Retrieval/WT2G/Wt03/B38', '/Users/zionn/Documents/github/Documents-Retrieval/WT2G/Wt03/B39', '/Users/zionn/Documents/github/Documents-Retrieval/WT2G/Wt03/B40', '/Users/zionn/Documents/github/Documents-Retrieval/WT2G/Wt04/B01', '/Users/zionn/Documents/github/Documents-Retrieval/WT2G/Wt04/B02', '/Users/zionn/Documents/github/Documents-Retrieval/WT2G/Wt04/B03', '/Users/zionn/Documents/github/Documents-Retrieval/WT2G/Wt04/B04', '/Users/zionn/Documents/github/Documents-Retrieval/WT2G/Wt04/B05', '/Users/zionn/Documents/github/Documents-Retrieval/WT2G/Wt04/B06', '/Users/zionn/Documents/github/Documents-Retrieval/WT2G/Wt04/B07', '/Users/zionn/Documents/github/Documents-Retrieval/WT2G/Wt04/B08', '/Users/zionn/Documents/github/Documents-Retrieval/WT2G/Wt04/B09', '/Users/zionn/Documents/github/Documents-Retrieval/WT2G/Wt04/B10', '/Users/zionn/Documents/github/Documents-Retrieval/WT2G/Wt04/B11', '/Users/zionn/Documents/github/Documents-Retrieval/WT2G/Wt04/B12', '/Users/zionn/Documents/github/Documents-Retrieval/WT2G/Wt04/B13', '/Users/zionn/Documents/github/Documents-Retrieval/WT2G/Wt04/B14', '/Users/zionn/Documents/github/Documents-Retrieval/WT2G/Wt04/B15', '/Users/zionn/Documents/github/Documents-Retrieval/WT2G/Wt04/B16', '/Users/zionn/Documents/github/Documents-Retrieval/WT2G/Wt04/B17', '/Users/zionn/Documents/github/Documents-Retrieval/WT2G/Wt04/B18', '/Users/zionn/Documents/github/Documents-Retrieval/WT2G/Wt04/B19', '/Users/zionn/Documents/github/Documents-Retrieval/WT2G/Wt04/B20', '/Users/zionn/Documents/github/Documents-Retrieval/WT2G/Wt04/B21', '/Users/zionn/Documents/github/Documents-Retrieval/WT2G/Wt04/B22', '/Users/zionn/Documents/github/Documents-Retrieval/WT2G/Wt04/B23', '/Users/zionn/Documents/github/Documents-Retrieval/WT2G/Wt04/B24', '/Users/zionn/Documents/github/Documents-Retrieval/WT2G/Wt04/B25', '/Users/zionn/Documents/github/Documents-Retrieval/WT2G/Wt04/B26', '/Users/zionn/Documents/github/Documents-Retrieval/WT2G/Wt04/B27', '/Users/zionn/Documents/github/Documents-Retrieval/WT2G/Wt04/B28', '/Users/zionn/Documents/github/Documents-Retrieval/WT2G/Wt04/B29', '/Users/zionn/Documents/github/Documents-Retrieval/WT2G/Wt04/B30', '/Users/zionn/Documents/github/Documents-Retrieval/WT2G/Wt04/B31', '/Users/zionn/Documents/github/Documents-Retrieval/WT2G/Wt04/B32', '/Users/zionn/Documents/github/Documents-Retrieval/WT2G/Wt04/B33', '/Users/zionn/Documents/github/Documents-Retrieval/WT2G/Wt04/B34', '/Users/zionn/Documents/github/Documents-Retrieval/WT2G/Wt04/B35', '/Users/zionn/Documents/github/Documents-Retrieval/WT2G/Wt04/B36', '/Users/zionn/Documents/github/Documents-Retrieval/WT2G/Wt04/B37', '/Users/zionn/Documents/github/Documents-Retrieval/WT2G/Wt04/B38', '/Users/zionn/Documents/github/Documents-Retrieval/WT2G/Wt04/B39', '/Users/zionn/Documents/github/Documents-Retrieval/WT2G/Wt04/B40', '/Users/zionn/Documents/github/Documents-Retrieval/WT2G/Wt05/B01', '/Users/zionn/Documents/github/Documents-Retrieval/WT2G/Wt05/B02', '/Users/zionn/Documents/github/Documents-Retrieval/WT2G/Wt05/B03', '/Users/zionn/Documents/github/Documents-Retrieval/WT2G/Wt05/B04', '/Users/zionn/Documents/github/Documents-Retrieval/WT2G/Wt05/B05', '/Users/zionn/Documents/github/Documents-Retrieval/WT2G/Wt05/B06', '/Users/zionn/Documents/github/Documents-Retrieval/WT2G/Wt05/B07', '/Users/zionn/Documents/github/Documents-Retrieval/WT2G/Wt05/B08', '/Users/zionn/Documents/github/Documents-Retrieval/WT2G/Wt05/B09', '/Users/zionn/Documents/github/Documents-Retrieval/WT2G/Wt05/B10', '/Users/zionn/Documents/github/Documents-Retrieval/WT2G/Wt05/B11', '/Users/zionn/Documents/github/Documents-Retrieval/WT2G/Wt05/B12', '/Users/zionn/Documents/github/Documents-Retrieval/WT2G/Wt05/B13', '/Users/zionn/Documents/github/Documents-Retrieval/WT2G/Wt05/B14', '/Users/zionn/Documents/github/Documents-Retrieval/WT2G/Wt05/B15', '/Users/zionn/Documents/github/Documents-Retrieval/WT2G/Wt05/B16', '/Users/zionn/Documents/github/Documents-Retrieval/WT2G/Wt05/B17', '/Users/zionn/Documents/github/Documents-Retrieval/WT2G/Wt05/B18', '/Users/zionn/Documents/github/Documents-Retrieval/WT2G/Wt05/B19', '/Users/zionn/Documents/github/Documents-Retrieval/WT2G/Wt05/B20', '/Users/zionn/Documents/github/Documents-Retrieval/WT2G/Wt05/B21', '/Users/zionn/Documents/github/Documents-Retrieval/WT2G/Wt05/B22', '/Users/zionn/Documents/github/Documents-Retrieval/WT2G/Wt05/B23', '/Users/zionn/Documents/github/Documents-Retrieval/WT2G/Wt05/B24', '/Users/zionn/Documents/github/Documents-Retrieval/WT2G/Wt05/B25', '/Users/zionn/Documents/github/Documents-Retrieval/WT2G/Wt05/B26', '/Users/zionn/Documents/github/Documents-Retrieval/WT2G/Wt05/B27', '/Users/zionn/Documents/github/Documents-Retrieval/WT2G/Wt05/B28', '/Users/zionn/Documents/github/Documents-Retrieval/WT2G/Wt05/B29', '/Users/zionn/Documents/github/Documents-Retrieval/WT2G/Wt05/B30', '/Users/zionn/Documents/github/Documents-Retrieval/WT2G/Wt05/B31', '/Users/zionn/Documents/github/Documents-Retrieval/WT2G/Wt05/B32', '/Users/zionn/Documents/github/Documents-Retrieval/WT2G/Wt05/B33', '/Users/zionn/Documents/github/Documents-Retrieval/WT2G/Wt05/B34', '/Users/zionn/Documents/github/Documents-Retrieval/WT2G/Wt05/B35', '/Users/zionn/Documents/github/Documents-Retrieval/WT2G/Wt05/B36', '/Users/zionn/Documents/github/Documents-Retrieval/WT2G/Wt05/B37', '/Users/zionn/Documents/github/Documents-Retrieval/WT2G/Wt05/B38', '/Users/zionn/Documents/github/Documents-Retrieval/WT2G/Wt05/B39', '/Users/zionn/Documents/github/Documents-Retrieval/WT2G/Wt05/B40', '/Users/zionn/Documents/github/Documents-Retrieval/WT2G/Wt06/B01', '/Users/zionn/Documents/github/Documents-Retrieval/WT2G/Wt06/B02', '/Users/zionn/Documents/github/Documents-Retrieval/WT2G/Wt06/B03', '/Users/zionn/Documents/github/Documents-Retrieval/WT2G/Wt06/B04', '/Users/zionn/Documents/github/Documents-Retrieval/WT2G/Wt06/B05', '/Users/zionn/Documents/github/Documents-Retrieval/WT2G/Wt06/B06', '/Users/zionn/Documents/github/Documents-Retrieval/WT2G/Wt06/B07', '/Users/zionn/Documents/github/Documents-Retrieval/WT2G/Wt06/B08', '/Users/zionn/Documents/github/Documents-Retrieval/WT2G/Wt06/B09', '/Users/zionn/Documents/github/Documents-Retrieval/WT2G/Wt06/B10', '/Users/zionn/Documents/github/Documents-Retrieval/WT2G/Wt06/B11', '/Users/zionn/Documents/github/Documents-Retrieval/WT2G/Wt06/B12', '/Users/zionn/Documents/github/Documents-Retrieval/WT2G/Wt06/B13', '/Users/zionn/Documents/github/Documents-Retrieval/WT2G/Wt06/B14', '/Users/zionn/Documents/github/Documents-Retrieval/WT2G/Wt06/B15', '/Users/zionn/Documents/github/Documents-Retrieval/WT2G/Wt06/B16', '/Users/zionn/Documents/github/Documents-Retrieval/WT2G/Wt06/B17', '/Users/zionn/Documents/github/Documents-Retrieval/WT2G/Wt06/B18', '/Users/zionn/Documents/github/Documents-Retrieval/WT2G/Wt06/B19', '/Users/zionn/Documents/github/Documents-Retrieval/WT2G/Wt06/B20', '/Users/zionn/Documents/github/Documents-Retrieval/WT2G/Wt06/B21', '/Users/zionn/Documents/github/Documents-Retrieval/WT2G/Wt06/B22', '/Users/zionn/Documents/github/Documents-Retrieval/WT2G/Wt06/B23', '/Users/zionn/Documents/github/Documents-Retrieval/WT2G/Wt06/B24', '/Users/zionn/Documents/github/Documents-Retrieval/WT2G/Wt06/B25', '/Users/zionn/Documents/github/Documents-Retrieval/WT2G/Wt06/B26', '/Users/zionn/Documents/github/Documents-Retrieval/WT2G/Wt06/B27', '/Users/zionn/Documents/github/Documents-Retrieval/WT2G/Wt06/B28', '/Users/zionn/Documents/github/Documents-Retrieval/WT2G/Wt06/B29', '/Users/zionn/Documents/github/Documents-Retrieval/WT2G/Wt06/B30', '/Users/zionn/Documents/github/Documents-Retrieval/WT2G/Wt06/B31', '/Users/zionn/Documents/github/Documents-Retrieval/WT2G/Wt06/B32', '/Users/zionn/Documents/github/Documents-Retrieval/WT2G/Wt06/B33', '/Users/zionn/Documents/github/Documents-Retrieval/WT2G/Wt06/B34', '/Users/zionn/Documents/github/Documents-Retrieval/WT2G/Wt06/B35', '/Users/zionn/Documents/github/Documents-Retrieval/WT2G/Wt06/B36', '/Users/zionn/Documents/github/Documents-Retrieval/WT2G/Wt06/B37', '/Users/zionn/Documents/github/Documents-Retrieval/WT2G/Wt06/B38', '/Users/zionn/Documents/github/Documents-Retrieval/WT2G/Wt06/B39', '/Users/zionn/Documents/github/Documents-Retrieval/WT2G/Wt06/B40', '/Users/zionn/Documents/github/Documents-Retrieval/WT2G/Wt07/B01', '/Users/zionn/Documents/github/Documents-Retrieval/WT2G/Wt07/B02', '/Users/zionn/Documents/github/Documents-Retrieval/WT2G/Wt07/B03', '/Users/zionn/Documents/github/Documents-Retrieval/WT2G/Wt07/B04', '/Users/zionn/Documents/github/Documents-Retrieval/WT2G/Wt07/B05', '/Users/zionn/Documents/github/Documents-Retrieval/WT2G/Wt07/B06', '/Users/zionn/Documents/github/Documents-Retrieval/WT2G/Wt07/B07', '/Users/zionn/Documents/github/Documents-Retrieval/WT2G/Wt07/B08', '/Users/zionn/Documents/github/Documents-Retrieval/WT2G/Wt07/B09', '/Users/zionn/Documents/github/Documents-Retrieval/WT2G/Wt07/B10', '/Users/zionn/Documents/github/Documents-Retrieval/WT2G/Wt07/B11', '/Users/zionn/Documents/github/Documents-Retrieval/WT2G/Wt07/B12', '/Users/zionn/Documents/github/Documents-Retrieval/WT2G/Wt07/B13', '/Users/zionn/Documents/github/Documents-Retrieval/WT2G/Wt07/B14', '/Users/zionn/Documents/github/Documents-Retrieval/WT2G/Wt07/B15', '/Users/zionn/Documents/github/Documents-Retrieval/WT2G/Wt07/B16', '/Users/zionn/Documents/github/Documents-Retrieval/WT2G/Wt07/B17', '/Users/zionn/Documents/github/Documents-Retrieval/WT2G/Wt07/B18', '/Users/zionn/Documents/github/Documents-Retrieval/WT2G/Wt07/B19', '/Users/zionn/Documents/github/Documents-Retrieval/WT2G/Wt07/B20', '/Users/zionn/Documents/github/Documents-Retrieval/WT2G/Wt07/B21', '/Users/zionn/Documents/github/Documents-Retrieval/WT2G/Wt07/B22', '/Users/zionn/Documents/github/Documents-Retrieval/WT2G/Wt07/B23', '/Users/zionn/Documents/github/Documents-Retrieval/WT2G/Wt07/B24', '/Users/zionn/Documents/github/Documents-Retrieval/WT2G/Wt07/B25', '/Users/zionn/Documents/github/Documents-Retrieval/WT2G/Wt07/B26', '/Users/zionn/Documents/github/Documents-Retrieval/WT2G/Wt07/B27', '/Users/zionn/Documents/github/Documents-Retrieval/WT2G/Wt07/B28', '/Users/zionn/Documents/github/Documents-Retrieval/WT2G/Wt07/B29', '/Users/zionn/Documents/github/Documents-Retrieval/WT2G/Wt07/B30', '/Users/zionn/Documents/github/Documents-Retrieval/WT2G/Wt07/B31', '/Users/zionn/Documents/github/Documents-Retrieval/WT2G/Wt07/B32', '/Users/zionn/Documents/github/Documents-Retrieval/WT2G/Wt07/B33', '/Users/zionn/Documents/github/Documents-Retrieval/WT2G/Wt07/B34', '/Users/zionn/Documents/github/Documents-Retrieval/WT2G/Wt07/B35', '/Users/zionn/Documents/github/Documents-Retrieval/WT2G/Wt07/B36', '/Users/zionn/Documents/github/Documents-Retrieval/WT2G/Wt07/B37', '/Users/zionn/Documents/github/Documents-Retrieval/WT2G/Wt07/B38', '/Users/zionn/Documents/github/Documents-Retrieval/WT2G/Wt07/B39', '/Users/zionn/Documents/github/Documents-Retrieval/WT2G/Wt07/B40', '/Users/zionn/Documents/github/Documents-Retrieval/WT2G/Wt08/B01', '/Users/zionn/Documents/github/Documents-Retrieval/WT2G/Wt08/B02', '/Users/zionn/Documents/github/Documents-Retrieval/WT2G/Wt08/B03', '/Users/zionn/Documents/github/Documents-Retrieval/WT2G/Wt08/B04', '/Users/zionn/Documents/github/Documents-Retrieval/WT2G/Wt08/B05', '/Users/zionn/Documents/github/Documents-Retrieval/WT2G/Wt08/B06', '/Users/zionn/Documents/github/Documents-Retrieval/WT2G/Wt08/B07', '/Users/zionn/Documents/github/Documents-Retrieval/WT2G/Wt08/B08', '/Users/zionn/Documents/github/Documents-Retrieval/WT2G/Wt08/B09', '/Users/zionn/Documents/github/Documents-Retrieval/WT2G/Wt08/B10', '/Users/zionn/Documents/github/Documents-Retrieval/WT2G/Wt08/B11', '/Users/zionn/Documents/github/Documents-Retrieval/WT2G/Wt08/B12', '/Users/zionn/Documents/github/Documents-Retrieval/WT2G/Wt08/B13', '/Users/zionn/Documents/github/Documents-Retrieval/WT2G/Wt08/B14', '/Users/zionn/Documents/github/Documents-Retrieval/WT2G/Wt08/B15', '/Users/zionn/Documents/github/Documents-Retrieval/WT2G/Wt08/B16', '/Users/zionn/Documents/github/Documents-Retrieval/WT2G/Wt08/B17', '/Users/zionn/Documents/github/Documents-Retrieval/WT2G/Wt08/B18', '/Users/zionn/Documents/github/Documents-Retrieval/WT2G/Wt08/B19', '/Users/zionn/Documents/github/Documents-Retrieval/WT2G/Wt08/B20', '/Users/zionn/Documents/github/Documents-Retrieval/WT2G/Wt08/B21', '/Users/zionn/Documents/github/Documents-Retrieval/WT2G/Wt08/B22', '/Users/zionn/Documents/github/Documents-Retrieval/WT2G/Wt08/B23', '/Users/zionn/Documents/github/Documents-Retrieval/WT2G/Wt08/B24', '/Users/zionn/Documents/github/Documents-Retrieval/WT2G/Wt08/B25', '/Users/zionn/Documents/github/Documents-Retrieval/WT2G/Wt08/B26', '/Users/zionn/Documents/github/Documents-Retrieval/WT2G/Wt08/B27', '/Users/zionn/Documents/github/Documents-Retrieval/WT2G/Wt08/B28', '/Users/zionn/Documents/github/Documents-Retrieval/WT2G/Wt08/B29', '/Users/zionn/Documents/github/Documents-Retrieval/WT2G/Wt08/B30', '/Users/zionn/Documents/github/Documents-Retrieval/WT2G/Wt08/B31', '/Users/zionn/Documents/github/Documents-Retrieval/WT2G/Wt08/B32', '/Users/zionn/Documents/github/Documents-Retrieval/WT2G/Wt08/B33', '/Users/zionn/Documents/github/Documents-Retrieval/WT2G/Wt08/B34', '/Users/zionn/Documents/github/Documents-Retrieval/WT2G/Wt08/B35', '/Users/zionn/Documents/github/Documents-Retrieval/WT2G/Wt08/B36', '/Users/zionn/Documents/github/Documents-Retrieval/WT2G/Wt08/B37', '/Users/zionn/Documents/github/Documents-Retrieval/WT2G/Wt08/B38', '/Users/zionn/Documents/github/Documents-Retrieval/WT2G/Wt08/B39', '/Users/zionn/Documents/github/Documents-Retrieval/WT2G/Wt08/B40', '/Users/zionn/Documents/github/Documents-Retrieval/WT2G/Wt09/B01', '/Users/zionn/Documents/github/Documents-Retrieval/WT2G/Wt09/B02', '/Users/zionn/Documents/github/Documents-Retrieval/WT2G/Wt09/B03', '/Users/zionn/Documents/github/Documents-Retrieval/WT2G/Wt09/B04', '/Users/zionn/Documents/github/Documents-Retrieval/WT2G/Wt09/B05', '/Users/zionn/Documents/github/Documents-Retrieval/WT2G/Wt09/B06', '/Users/zionn/Documents/github/Documents-Retrieval/WT2G/Wt09/B07', '/Users/zionn/Documents/github/Documents-Retrieval/WT2G/Wt09/B08', '/Users/zionn/Documents/github/Documents-Retrieval/WT2G/Wt09/B09', '/Users/zionn/Documents/github/Documents-Retrieval/WT2G/Wt09/B10', '/Users/zionn/Documents/github/Documents-Retrieval/WT2G/Wt09/B11', '/Users/zionn/Documents/github/Documents-Retrieval/WT2G/Wt09/B12', '/Users/zionn/Documents/github/Documents-Retrieval/WT2G/Wt09/B13', '/Users/zionn/Documents/github/Documents-Retrieval/WT2G/Wt09/B14', '/Users/zionn/Documents/github/Documents-Retrieval/WT2G/Wt09/B15', '/Users/zionn/Documents/github/Documents-Retrieval/WT2G/Wt09/B16', '/Users/zionn/Documents/github/Documents-Retrieval/WT2G/Wt09/B17', '/Users/zionn/Documents/github/Documents-Retrieval/WT2G/Wt09/B18', '/Users/zionn/Documents/github/Documents-Retrieval/WT2G/Wt09/B19', '/Users/zionn/Documents/github/Documents-Retrieval/WT2G/Wt09/B20', '/Users/zionn/Documents/github/Documents-Retrieval/WT2G/Wt09/B21', '/Users/zionn/Documents/github/Documents-Retrieval/WT2G/Wt09/B22', '/Users/zionn/Documents/github/Documents-Retrieval/WT2G/Wt09/B23', '/Users/zionn/Documents/github/Documents-Retrieval/WT2G/Wt09/B24', '/Users/zionn/Documents/github/Documents-Retrieval/WT2G/Wt09/B25', '/Users/zionn/Documents/github/Documents-Retrieval/WT2G/Wt09/B26', '/Users/zionn/Documents/github/Documents-Retrieval/WT2G/Wt09/B27', '/Users/zionn/Documents/github/Documents-Retrieval/WT2G/Wt09/B28', '/Users/zionn/Documents/github/Documents-Retrieval/WT2G/Wt09/B29', '/Users/zionn/Documents/github/Documents-Retrieval/WT2G/Wt09/B30', '/Users/zionn/Documents/github/Documents-Retrieval/WT2G/Wt09/B31', '/Users/zionn/Documents/github/Documents-Retrieval/WT2G/Wt09/B32', '/Users/zionn/Documents/github/Documents-Retrieval/WT2G/Wt09/B33', '/Users/zionn/Documents/github/Documents-Retrieval/WT2G/Wt09/B34', '/Users/zionn/Documents/github/Documents-Retrieval/WT2G/Wt09/B35', '/Users/zionn/Documents/github/Documents-Retrieval/WT2G/Wt09/B36', '/Users/zionn/Documents/github/Documents-Retrieval/WT2G/Wt09/B37', '/Users/zionn/Documents/github/Documents-Retrieval/WT2G/Wt09/B38', '/Users/zionn/Documents/github/Documents-Retrieval/WT2G/Wt09/B39', '/Users/zionn/Documents/github/Documents-Retrieval/WT2G/Wt09/B40', '/Users/zionn/Documents/github/Documents-Retrieval/WT2G/Wt10/B01', '/Users/zionn/Documents/github/Documents-Retrieval/WT2G/Wt10/B02', '/Users/zionn/Documents/github/Documents-Retrieval/WT2G/Wt10/B03', '/Users/zionn/Documents/github/Documents-Retrieval/WT2G/Wt10/B04', '/Users/zionn/Documents/github/Documents-Retrieval/WT2G/Wt10/B05', '/Users/zionn/Documents/github/Documents-Retrieval/WT2G/Wt10/B06', '/Users/zionn/Documents/github/Documents-Retrieval/WT2G/Wt10/B07', '/Users/zionn/Documents/github/Documents-Retrieval/WT2G/Wt10/B08', '/Users/zionn/Documents/github/Documents-Retrieval/WT2G/Wt10/B09', '/Users/zionn/Documents/github/Documents-Retrieval/WT2G/Wt10/B10', '/Users/zionn/Documents/github/Documents-Retrieval/WT2G/Wt10/B11', '/Users/zionn/Documents/github/Documents-Retrieval/WT2G/Wt10/B12', '/Users/zionn/Documents/github/Documents-Retrieval/WT2G/Wt10/B13', '/Users/zionn/Documents/github/Documents-Retrieval/WT2G/Wt10/B14', '/Users/zionn/Documents/github/Documents-Retrieval/WT2G/Wt10/B15', '/Users/zionn/Documents/github/Documents-Retrieval/WT2G/Wt10/B16', '/Users/zionn/Documents/github/Documents-Retrieval/WT2G/Wt10/B17', '/Users/zionn/Documents/github/Documents-Retrieval/WT2G/Wt10/B18', '/Users/zionn/Documents/github/Documents-Retrieval/WT2G/Wt10/B19', '/Users/zionn/Documents/github/Documents-Retrieval/WT2G/Wt10/B20', '/Users/zionn/Documents/github/Documents-Retrieval/WT2G/Wt10/B21', '/Users/zionn/Documents/github/Documents-Retrieval/WT2G/Wt10/B22', '/Users/zionn/Documents/github/Documents-Retrieval/WT2G/Wt10/B23', '/Users/zionn/Documents/github/Documents-Retrieval/WT2G/Wt10/B24', '/Users/zionn/Documents/github/Documents-Retrieval/WT2G/Wt10/B25', '/Users/zionn/Documents/github/Documents-Retrieval/WT2G/Wt10/B26', '/Users/zionn/Documents/github/Documents-Retrieval/WT2G/Wt10/B27', '/Users/zionn/Documents/github/Documents-Retrieval/WT2G/Wt10/B28', '/Users/zionn/Documents/github/Documents-Retrieval/WT2G/Wt10/B29', '/Users/zionn/Documents/github/Documents-Retrieval/WT2G/Wt10/B30', '/Users/zionn/Documents/github/Documents-Retrieval/WT2G/Wt10/B31', '/Users/zionn/Documents/github/Documents-Retrieval/WT2G/Wt10/B32', '/Users/zionn/Documents/github/Documents-Retrieval/WT2G/Wt10/B33', '/Users/zionn/Documents/github/Documents-Retrieval/WT2G/Wt10/B34', '/Users/zionn/Documents/github/Documents-Retrieval/WT2G/Wt10/B35', '/Users/zionn/Documents/github/Documents-Retrieval/WT2G/Wt10/B36', '/Users/zionn/Documents/github/Documents-Retrieval/WT2G/Wt10/B37', '/Users/zionn/Documents/github/Documents-Retrieval/WT2G/Wt10/B38', '/Users/zionn/Documents/github/Documents-Retrieval/WT2G/Wt10/B39', '/Users/zionn/Documents/github/Documents-Retrieval/WT2G/Wt10/B40', '/Users/zionn/Documents/github/Documents-Retrieval/WT2G/Wt11/B01', '/Users/zionn/Documents/github/Documents-Retrieval/WT2G/Wt11/B02', '/Users/zionn/Documents/github/Documents-Retrieval/WT2G/Wt11/B03', '/Users/zionn/Documents/github/Documents-Retrieval/WT2G/Wt11/B04', '/Users/zionn/Documents/github/Documents-Retrieval/WT2G/Wt11/B05', '/Users/zionn/Documents/github/Documents-Retrieval/WT2G/Wt11/B06', '/Users/zionn/Documents/github/Documents-Retrieval/WT2G/Wt11/B07', '/Users/zionn/Documents/github/Documents-Retrieval/WT2G/Wt11/B08', '/Users/zionn/Documents/github/Documents-Retrieval/WT2G/Wt11/B09', '/Users/zionn/Documents/github/Documents-Retrieval/WT2G/Wt11/B10', '/Users/zionn/Documents/github/Documents-Retrieval/WT2G/Wt11/B11', '/Users/zionn/Documents/github/Documents-Retrieval/WT2G/Wt11/B12', '/Users/zionn/Documents/github/Documents-Retrieval/WT2G/Wt11/B13', '/Users/zionn/Documents/github/Documents-Retrieval/WT2G/Wt11/B14', '/Users/zionn/Documents/github/Documents-Retrieval/WT2G/Wt11/B15', '/Users/zionn/Documents/github/Documents-Retrieval/WT2G/Wt11/B16', '/Users/zionn/Documents/github/Documents-Retrieval/WT2G/Wt11/B17', '/Users/zionn/Documents/github/Documents-Retrieval/WT2G/Wt11/B18', '/Users/zionn/Documents/github/Documents-Retrieval/WT2G/Wt11/B19', '/Users/zionn/Documents/github/Documents-Retrieval/WT2G/Wt11/B20', '/Users/zionn/Documents/github/Documents-Retrieval/WT2G/Wt11/B21', '/Users/zionn/Documents/github/Documents-Retrieval/WT2G/Wt11/B22', '/Users/zionn/Documents/github/Documents-Retrieval/WT2G/Wt11/B23', '/Users/zionn/Documents/github/Documents-Retrieval/WT2G/Wt11/B24', '/Users/zionn/Documents/github/Documents-Retrieval/WT2G/Wt11/B25', '/Users/zionn/Documents/github/Documents-Retrieval/WT2G/Wt11/B26', '/Users/zionn/Documents/github/Documents-Retrieval/WT2G/Wt11/B27', '/Users/zionn/Documents/github/Documents-Retrieval/WT2G/Wt11/B28', '/Users/zionn/Documents/github/Documents-Retrieval/WT2G/Wt11/B29', '/Users/zionn/Documents/github/Documents-Retrieval/WT2G/Wt11/B30', '/Users/zionn/Documents/github/Documents-Retrieval/WT2G/Wt11/B31', '/Users/zionn/Documents/github/Documents-Retrieval/WT2G/Wt11/B32', '/Users/zionn/Documents/github/Documents-Retrieval/WT2G/Wt11/B33', '/Users/zionn/Documents/github/Documents-Retrieval/WT2G/Wt11/B34', '/Users/zionn/Documents/github/Documents-Retrieval/WT2G/Wt11/B35', '/Users/zionn/Documents/github/Documents-Retrieval/WT2G/Wt11/B36', '/Users/zionn/Documents/github/Documents-Retrieval/WT2G/Wt11/B37', '/Users/zionn/Documents/github/Documents-Retrieval/WT2G/Wt11/B38', '/Users/zionn/Documents/github/Documents-Retrieval/WT2G/Wt11/B39', '/Users/zionn/Documents/github/Documents-Retrieval/WT2G/Wt11/B40', '/Users/zionn/Documents/github/Documents-Retrieval/WT2G/Wt12/B01', '/Users/zionn/Documents/github/Documents-Retrieval/WT2G/Wt12/B02', '/Users/zionn/Documents/github/Documents-Retrieval/WT2G/Wt12/B03', '/Users/zionn/Documents/github/Documents-Retrieval/WT2G/Wt12/B04', '/Users/zionn/Documents/github/Documents-Retrieval/WT2G/Wt12/B05', '/Users/zionn/Documents/github/Documents-Retrieval/WT2G/Wt12/B06', '/Users/zionn/Documents/github/Documents-Retrieval/WT2G/Wt12/B07', '/Users/zionn/Documents/github/Documents-Retrieval/WT2G/Wt12/B08', '/Users/zionn/Documents/github/Documents-Retrieval/WT2G/Wt12/B09', '/Users/zionn/Documents/github/Documents-Retrieval/WT2G/Wt12/B10', '/Users/zionn/Documents/github/Documents-Retrieval/WT2G/Wt12/B11', '/Users/zionn/Documents/github/Documents-Retrieval/WT2G/Wt12/B12', '/Users/zionn/Documents/github/Documents-Retrieval/WT2G/Wt12/B13', '/Users/zionn/Documents/github/Documents-Retrieval/WT2G/Wt12/B14', '/Users/zionn/Documents/github/Documents-Retrieval/WT2G/Wt12/B15', '/Users/zionn/Documents/github/Documents-Retrieval/WT2G/Wt12/B16', '/Users/zionn/Documents/github/Documents-Retrieval/WT2G/Wt12/B17', '/Users/zionn/Documents/github/Documents-Retrieval/WT2G/Wt12/B18', '/Users/zionn/Documents/github/Documents-Retrieval/WT2G/Wt12/B19', '/Users/zionn/Documents/github/Documents-Retrieval/WT2G/Wt12/B20', '/Users/zionn/Documents/github/Documents-Retrieval/WT2G/Wt12/B21', '/Users/zionn/Documents/github/Documents-Retrieval/WT2G/Wt12/B22', '/Users/zionn/Documents/github/Documents-Retrieval/WT2G/Wt12/B23', '/Users/zionn/Documents/github/Documents-Retrieval/WT2G/Wt12/B24', '/Users/zionn/Documents/github/Documents-Retrieval/WT2G/Wt12/B25', '/Users/zionn/Documents/github/Documents-Retrieval/WT2G/Wt12/B26', '/Users/zionn/Documents/github/Documents-Retrieval/WT2G/Wt12/B27', '/Users/zionn/Documents/github/Documents-Retrieval/WT2G/Wt12/B28', '/Users/zionn/Documents/github/Documents-Retrieval/WT2G/Wt12/B29', '/Users/zionn/Documents/github/Documents-Retrieval/WT2G/Wt12/B30', '/Users/zionn/Documents/github/Documents-Retrieval/WT2G/Wt12/B31', '/Users/zionn/Documents/github/Documents-Retrieval/WT2G/Wt12/B32', '/Users/zionn/Documents/github/Documents-Retrieval/WT2G/Wt12/B33', '/Users/zionn/Documents/github/Documents-Retrieval/WT2G/Wt12/B34', '/Users/zionn/Documents/github/Documents-Retrieval/WT2G/Wt12/B35', '/Users/zionn/Documents/github/Documents-Retrieval/WT2G/Wt12/B36', '/Users/zionn/Documents/github/Documents-Retrieval/WT2G/Wt12/B37', '/Users/zionn/Documents/github/Documents-Retrieval/WT2G/Wt12/B38', '/Users/zionn/Documents/github/Documents-Retrieval/WT2G/Wt12/B39', '/Users/zionn/Documents/github/Documents-Retrieval/WT2G/Wt12/B40', '/Users/zionn/Documents/github/Documents-Retrieval/WT2G/Wt13/B01', '/Users/zionn/Documents/github/Documents-Retrieval/WT2G/Wt13/B02', '/Users/zionn/Documents/github/Documents-Retrieval/WT2G/Wt13/B03', '/Users/zionn/Documents/github/Documents-Retrieval/WT2G/Wt13/B04', '/Users/zionn/Documents/github/Documents-Retrieval/WT2G/Wt13/B05', '/Users/zionn/Documents/github/Documents-Retrieval/WT2G/Wt13/B06', '/Users/zionn/Documents/github/Documents-Retrieval/WT2G/Wt13/B07', '/Users/zionn/Documents/github/Documents-Retrieval/WT2G/Wt13/B08', '/Users/zionn/Documents/github/Documents-Retrieval/WT2G/Wt13/B09', '/Users/zionn/Documents/github/Documents-Retrieval/WT2G/Wt13/B10', '/Users/zionn/Documents/github/Documents-Retrieval/WT2G/Wt13/B11', '/Users/zionn/Documents/github/Documents-Retrieval/WT2G/Wt13/B12', '/Users/zionn/Documents/github/Documents-Retrieval/WT2G/Wt13/B13', '/Users/zionn/Documents/github/Documents-Retrieval/WT2G/Wt13/B14', '/Users/zionn/Documents/github/Documents-Retrieval/WT2G/Wt13/B15', '/Users/zionn/Documents/github/Documents-Retrieval/WT2G/Wt13/B16', '/Users/zionn/Documents/github/Documents-Retrieval/WT2G/Wt13/B17', '/Users/zionn/Documents/github/Documents-Retrieval/WT2G/Wt13/B18', '/Users/zionn/Documents/github/Documents-Retrieval/WT2G/Wt13/B19', '/Users/zionn/Documents/github/Documents-Retrieval/WT2G/Wt13/B20', '/Users/zionn/Documents/github/Documents-Retrieval/WT2G/Wt13/B21', '/Users/zionn/Documents/github/Documents-Retrieval/WT2G/Wt13/B22', '/Users/zionn/Documents/github/Documents-Retrieval/WT2G/Wt13/B23', '/Users/zionn/Documents/github/Documents-Retrieval/WT2G/Wt13/B24', '/Users/zionn/Documents/github/Documents-Retrieval/WT2G/Wt13/B25', '/Users/zionn/Documents/github/Documents-Retrieval/WT2G/Wt13/B26', '/Users/zionn/Documents/github/Documents-Retrieval/WT2G/Wt13/B27', '/Users/zionn/Documents/github/Documents-Retrieval/WT2G/Wt13/B28', '/Users/zionn/Documents/github/Documents-Retrieval/WT2G/Wt13/B29', '/Users/zionn/Documents/github/Documents-Retrieval/WT2G/Wt13/B30', '/Users/zionn/Documents/github/Documents-Retrieval/WT2G/Wt13/B31', '/Users/zionn/Documents/github/Documents-Retrieval/WT2G/Wt13/B32', '/Users/zionn/Documents/github/Documents-Retrieval/WT2G/Wt13/B33', '/Users/zionn/Documents/github/Documents-Retrieval/WT2G/Wt13/B34', '/Users/zionn/Documents/github/Documents-Retrieval/WT2G/Wt13/B35', '/Users/zionn/Documents/github/Documents-Retrieval/WT2G/Wt13/B36', '/Users/zionn/Documents/github/Documents-Retrieval/WT2G/Wt13/B37', '/Users/zionn/Documents/github/Documents-Retrieval/WT2G/Wt13/B38', '/Users/zionn/Documents/github/Documents-Retrieval/WT2G/Wt13/B39', '/Users/zionn/Documents/github/Documents-Retrieval/WT2G/Wt13/B40', '/Users/zionn/Documents/github/Documents-Retrieval/WT2G/Wt14/B01', '/Users/zionn/Documents/github/Documents-Retrieval/WT2G/Wt14/B02', '/Users/zionn/Documents/github/Documents-Retrieval/WT2G/Wt14/B03', '/Users/zionn/Documents/github/Documents-Retrieval/WT2G/Wt14/B04', '/Users/zionn/Documents/github/Documents-Retrieval/WT2G/Wt14/B05', '/Users/zionn/Documents/github/Documents-Retrieval/WT2G/Wt14/B06', '/Users/zionn/Documents/github/Documents-Retrieval/WT2G/Wt14/B07', '/Users/zionn/Documents/github/Documents-Retrieval/WT2G/Wt14/B08', '/Users/zionn/Documents/github/Documents-Retrieval/WT2G/Wt14/B09', '/Users/zionn/Documents/github/Documents-Retrieval/WT2G/Wt14/B10', '/Users/zionn/Documents/github/Documents-Retrieval/WT2G/Wt14/B11', '/Users/zionn/Documents/github/Documents-Retrieval/WT2G/Wt14/B12', '/Users/zionn/Documents/github/Documents-Retrieval/WT2G/Wt14/B13', '/Users/zionn/Documents/github/Documents-Retrieval/WT2G/Wt14/B14', '/Users/zionn/Documents/github/Documents-Retrieval/WT2G/Wt14/B15', '/Users/zionn/Documents/github/Documents-Retrieval/WT2G/Wt14/B16', '/Users/zionn/Documents/github/Documents-Retrieval/WT2G/Wt14/B17', '/Users/zionn/Documents/github/Documents-Retrieval/WT2G/Wt14/B18', '/Users/zionn/Documents/github/Documents-Retrieval/WT2G/Wt14/B19', '/Users/zionn/Documents/github/Documents-Retrieval/WT2G/Wt14/B20', '/Users/zionn/Documents/github/Documents-Retrieval/WT2G/Wt14/B21', '/Users/zionn/Documents/github/Documents-Retrieval/WT2G/Wt14/B22', '/Users/zionn/Documents/github/Documents-Retrieval/WT2G/Wt14/B23', '/Users/zionn/Documents/github/Documents-Retrieval/WT2G/Wt14/B24', '/Users/zionn/Documents/github/Documents-Retrieval/WT2G/Wt14/B25', '/Users/zionn/Documents/github/Documents-Retrieval/WT2G/Wt14/B26', '/Users/zionn/Documents/github/Documents-Retrieval/WT2G/Wt14/B27', '/Users/zionn/Documents/github/Documents-Retrieval/WT2G/Wt14/B28', '/Users/zionn/Documents/github/Documents-Retrieval/WT2G/Wt14/B29', '/Users/zionn/Documents/github/Documents-Retrieval/WT2G/Wt14/B30', '/Users/zionn/Documents/github/Documents-Retrieval/WT2G/Wt14/B31', '/Users/zionn/Documents/github/Documents-Retrieval/WT2G/Wt14/B32', '/Users/zionn/Documents/github/Documents-Retrieval/WT2G/Wt14/B33', '/Users/zionn/Documents/github/Documents-Retrieval/WT2G/Wt14/B34', '/Users/zionn/Documents/github/Documents-Retrieval/WT2G/Wt14/B35', '/Users/zionn/Documents/github/Documents-Retrieval/WT2G/Wt14/B36', '/Users/zionn/Documents/github/Documents-Retrieval/WT2G/Wt14/B37', '/Users/zionn/Documents/github/Documents-Retrieval/WT2G/Wt14/B38', '/Users/zionn/Documents/github/Documents-Retrieval/WT2G/Wt14/B39', '/Users/zionn/Documents/github/Documents-Retrieval/WT2G/Wt14/B40', '/Users/zionn/Documents/github/Documents-Retrieval/WT2G/Wt15/B01', '/Users/zionn/Documents/github/Documents-Retrieval/WT2G/Wt15/B02', '/Users/zionn/Documents/github/Documents-Retrieval/WT2G/Wt15/B03', '/Users/zionn/Documents/github/Documents-Retrieval/WT2G/Wt15/B04', '/Users/zionn/Documents/github/Documents-Retrieval/WT2G/Wt15/B05', '/Users/zionn/Documents/github/Documents-Retrieval/WT2G/Wt15/B06', '/Users/zionn/Documents/github/Documents-Retrieval/WT2G/Wt15/B07', '/Users/zionn/Documents/github/Documents-Retrieval/WT2G/Wt15/B08', '/Users/zionn/Documents/github/Documents-Retrieval/WT2G/Wt15/B09', '/Users/zionn/Documents/github/Documents-Retrieval/WT2G/Wt15/B10', '/Users/zionn/Documents/github/Documents-Retrieval/WT2G/Wt15/B11', '/Users/zionn/Documents/github/Documents-Retrieval/WT2G/Wt15/B12', '/Users/zionn/Documents/github/Documents-Retrieval/WT2G/Wt15/B13', '/Users/zionn/Documents/github/Documents-Retrieval/WT2G/Wt15/B14', '/Users/zionn/Documents/github/Documents-Retrieval/WT2G/Wt15/B15', '/Users/zionn/Documents/github/Documents-Retrieval/WT2G/Wt15/B16', '/Users/zionn/Documents/github/Documents-Retrieval/WT2G/Wt15/B17', '/Users/zionn/Documents/github/Documents-Retrieval/WT2G/Wt15/B18', '/Users/zionn/Documents/github/Documents-Retrieval/WT2G/Wt15/B19', '/Users/zionn/Documents/github/Documents-Retrieval/WT2G/Wt15/B20', '/Users/zionn/Documents/github/Documents-Retrieval/WT2G/Wt15/B21', '/Users/zionn/Documents/github/Documents-Retrieval/WT2G/Wt15/B22', '/Users/zionn/Documents/github/Documents-Retrieval/WT2G/Wt15/B23', '/Users/zionn/Documents/github/Documents-Retrieval/WT2G/Wt15/B24', '/Users/zionn/Documents/github/Documents-Retrieval/WT2G/Wt15/B25', '/Users/zionn/Documents/github/Documents-Retrieval/WT2G/Wt15/B26', '/Users/zionn/Documents/github/Documents-Retrieval/WT2G/Wt15/B27', '/Users/zionn/Documents/github/Documents-Retrieval/WT2G/Wt15/B28', '/Users/zionn/Documents/github/Documents-Retrieval/WT2G/Wt15/B29', '/Users/zionn/Documents/github/Documents-Retrieval/WT2G/Wt15/B30', '/Users/zionn/Documents/github/Documents-Retrieval/WT2G/Wt15/B31', '/Users/zionn/Documents/github/Documents-Retrieval/WT2G/Wt15/B32', '/Users/zionn/Documents/github/Documents-Retrieval/WT2G/Wt15/B33', '/Users/zionn/Documents/github/Documents-Retrieval/WT2G/Wt15/B34', '/Users/zionn/Documents/github/Documents-Retrieval/WT2G/Wt15/B35', '/Users/zionn/Documents/github/Documents-Retrieval/WT2G/Wt15/B36', '/Users/zionn/Documents/github/Documents-Retrieval/WT2G/Wt15/B37', '/Users/zionn/Documents/github/Documents-Retrieval/WT2G/Wt15/B38', '/Users/zionn/Documents/github/Documents-Retrieval/WT2G/Wt15/B39', '/Users/zionn/Documents/github/Documents-Retrieval/WT2G/Wt15/B40', '/Users/zionn/Documents/github/Documents-Retrieval/WT2G/Wt16/B01', '/Users/zionn/Documents/github/Documents-Retrieval/WT2G/Wt16/B02', '/Users/zionn/Documents/github/Documents-Retrieval/WT2G/Wt16/B03', '/Users/zionn/Documents/github/Documents-Retrieval/WT2G/Wt16/B04', '/Users/zionn/Documents/github/Documents-Retrieval/WT2G/Wt16/B05', '/Users/zionn/Documents/github/Documents-Retrieval/WT2G/Wt16/B06', '/Users/zionn/Documents/github/Documents-Retrieval/WT2G/Wt16/B07', '/Users/zionn/Documents/github/Documents-Retrieval/WT2G/Wt16/B08', '/Users/zionn/Documents/github/Documents-Retrieval/WT2G/Wt16/B09', '/Users/zionn/Documents/github/Documents-Retrieval/WT2G/Wt16/B10', '/Users/zionn/Documents/github/Documents-Retrieval/WT2G/Wt16/B11', '/Users/zionn/Documents/github/Documents-Retrieval/WT2G/Wt16/B12', '/Users/zionn/Documents/github/Documents-Retrieval/WT2G/Wt16/B13', '/Users/zionn/Documents/github/Documents-Retrieval/WT2G/Wt16/B14', '/Users/zionn/Documents/github/Documents-Retrieval/WT2G/Wt16/B15', '/Users/zionn/Documents/github/Documents-Retrieval/WT2G/Wt16/B16', '/Users/zionn/Documents/github/Documents-Retrieval/WT2G/Wt16/B17', '/Users/zionn/Documents/github/Documents-Retrieval/WT2G/Wt16/B18', '/Users/zionn/Documents/github/Documents-Retrieval/WT2G/Wt16/B19', '/Users/zionn/Documents/github/Documents-Retrieval/WT2G/Wt16/B20', '/Users/zionn/Documents/github/Documents-Retrieval/WT2G/Wt16/B21', '/Users/zionn/Documents/github/Documents-Retrieval/WT2G/Wt16/B22', '/Users/zionn/Documents/github/Documents-Retrieval/WT2G/Wt16/B23', '/Users/zionn/Documents/github/Documents-Retrieval/WT2G/Wt16/B24', '/Users/zionn/Documents/github/Documents-Retrieval/WT2G/Wt16/B25', '/Users/zionn/Documents/github/Documents-Retrieval/WT2G/Wt16/B26', '/Users/zionn/Documents/github/Documents-Retrieval/WT2G/Wt16/B27', '/Users/zionn/Documents/github/Documents-Retrieval/WT2G/Wt16/B28', '/Users/zionn/Documents/github/Documents-Retrieval/WT2G/Wt16/B29', '/Users/zionn/Documents/github/Documents-Retrieval/WT2G/Wt16/B30', '/Users/zionn/Documents/github/Documents-Retrieval/WT2G/Wt16/B31', '/Users/zionn/Documents/github/Documents-Retrieval/WT2G/Wt16/B32', '/Users/zionn/Documents/github/Documents-Retrieval/WT2G/Wt16/B33', '/Users/zionn/Documents/github/Documents-Retrieval/WT2G/Wt16/B34', '/Users/zionn/Documents/github/Documents-Retrieval/WT2G/Wt16/B35', '/Users/zionn/Documents/github/Documents-Retrieval/WT2G/Wt16/B36', '/Users/zionn/Documents/github/Documents-Retrieval/WT2G/Wt16/B37', '/Users/zionn/Documents/github/Documents-Retrieval/WT2G/Wt16/B38', '/Users/zionn/Documents/github/Documents-Retrieval/WT2G/Wt16/B39', '/Users/zionn/Documents/github/Documents-Retrieval/WT2G/Wt16/B40', '/Users/zionn/Documents/github/Documents-Retrieval/WT2G/Wt17/B01', '/Users/zionn/Documents/github/Documents-Retrieval/WT2G/Wt17/B02', '/Users/zionn/Documents/github/Documents-Retrieval/WT2G/Wt17/B03', '/Users/zionn/Documents/github/Documents-Retrieval/WT2G/Wt17/B04', '/Users/zionn/Documents/github/Documents-Retrieval/WT2G/Wt17/B05', '/Users/zionn/Documents/github/Documents-Retrieval/WT2G/Wt17/B06', '/Users/zionn/Documents/github/Documents-Retrieval/WT2G/Wt17/B07', '/Users/zionn/Documents/github/Documents-Retrieval/WT2G/Wt17/B08', '/Users/zionn/Documents/github/Documents-Retrieval/WT2G/Wt17/B09', '/Users/zionn/Documents/github/Documents-Retrieval/WT2G/Wt17/B10', '/Users/zionn/Documents/github/Documents-Retrieval/WT2G/Wt17/B11', '/Users/zionn/Documents/github/Documents-Retrieval/WT2G/Wt17/B12', '/Users/zionn/Documents/github/Documents-Retrieval/WT2G/Wt17/B13', '/Users/zionn/Documents/github/Documents-Retrieval/WT2G/Wt17/B14', '/Users/zionn/Documents/github/Documents-Retrieval/WT2G/Wt17/B15', '/Users/zionn/Documents/github/Documents-Retrieval/WT2G/Wt17/B16', '/Users/zionn/Documents/github/Documents-Retrieval/WT2G/Wt17/B17', '/Users/zionn/Documents/github/Documents-Retrieval/WT2G/Wt17/B18', '/Users/zionn/Documents/github/Documents-Retrieval/WT2G/Wt17/B19', '/Users/zionn/Documents/github/Documents-Retrieval/WT2G/Wt17/B20', '/Users/zionn/Documents/github/Documents-Retrieval/WT2G/Wt17/B21', '/Users/zionn/Documents/github/Documents-Retrieval/WT2G/Wt17/B22', '/Users/zionn/Documents/github/Documents-Retrieval/WT2G/Wt17/B23', '/Users/zionn/Documents/github/Documents-Retrieval/WT2G/Wt17/B24', '/Users/zionn/Documents/github/Documents-Retrieval/WT2G/Wt17/B25', '/Users/zionn/Documents/github/Documents-Retrieval/WT2G/Wt17/B26', '/Users/zionn/Documents/github/Documents-Retrieval/WT2G/Wt17/B27', '/Users/zionn/Documents/github/Documents-Retrieval/WT2G/Wt17/B28', '/Users/zionn/Documents/github/Documents-Retrieval/WT2G/Wt17/B29', '/Users/zionn/Documents/github/Documents-Retrieval/WT2G/Wt17/B30', '/Users/zionn/Documents/github/Documents-Retrieval/WT2G/Wt17/B31', '/Users/zionn/Documents/github/Documents-Retrieval/WT2G/Wt17/B32', '/Users/zionn/Documents/github/Documents-Retrieval/WT2G/Wt17/B33', '/Users/zionn/Documents/github/Documents-Retrieval/WT2G/Wt17/B34', '/Users/zionn/Documents/github/Documents-Retrieval/WT2G/Wt17/B35', '/Users/zionn/Documents/github/Documents-Retrieval/WT2G/Wt17/B36', '/Users/zionn/Documents/github/Documents-Retrieval/WT2G/Wt17/B37', '/Users/zionn/Documents/github/Documents-Retrieval/WT2G/Wt17/B38', '/Users/zionn/Documents/github/Documents-Retrieval/WT2G/Wt17/B39', '/Users/zionn/Documents/github/Documents-Retrieval/WT2G/Wt17/B40', '/Users/zionn/Documents/github/Documents-Retrieval/WT2G/Wt18/B01', '/Users/zionn/Documents/github/Documents-Retrieval/WT2G/Wt18/B02', '/Users/zionn/Documents/github/Documents-Retrieval/WT2G/Wt18/B03', '/Users/zionn/Documents/github/Documents-Retrieval/WT2G/Wt18/B04', '/Users/zionn/Documents/github/Documents-Retrieval/WT2G/Wt18/B05', '/Users/zionn/Documents/github/Documents-Retrieval/WT2G/Wt18/B06', '/Users/zionn/Documents/github/Documents-Retrieval/WT2G/Wt18/B07', '/Users/zionn/Documents/github/Documents-Retrieval/WT2G/Wt18/B08', '/Users/zionn/Documents/github/Documents-Retrieval/WT2G/Wt18/B09', '/Users/zionn/Documents/github/Documents-Retrieval/WT2G/Wt18/B10', '/Users/zionn/Documents/github/Documents-Retrieval/WT2G/Wt18/B11', '/Users/zionn/Documents/github/Documents-Retrieval/WT2G/Wt18/B12', '/Users/zionn/Documents/github/Documents-Retrieval/WT2G/Wt18/B13', '/Users/zionn/Documents/github/Documents-Retrieval/WT2G/Wt18/B14', '/Users/zionn/Documents/github/Documents-Retrieval/WT2G/Wt18/B15', '/Users/zionn/Documents/github/Documents-Retrieval/WT2G/Wt18/B16', '/Users/zionn/Documents/github/Documents-Retrieval/WT2G/Wt18/B17', '/Users/zionn/Documents/github/Documents-Retrieval/WT2G/Wt18/B18', '/Users/zionn/Documents/github/Documents-Retrieval/WT2G/Wt18/B19', '/Users/zionn/Documents/github/Documents-Retrieval/WT2G/Wt18/B20', '/Users/zionn/Documents/github/Documents-Retrieval/WT2G/Wt18/B21', '/Users/zionn/Documents/github/Documents-Retrieval/WT2G/Wt18/B22', '/Users/zionn/Documents/github/Documents-Retrieval/WT2G/Wt18/B23', '/Users/zionn/Documents/github/Documents-Retrieval/WT2G/Wt18/B24', '/Users/zionn/Documents/github/Documents-Retrieval/WT2G/Wt18/B25', '/Users/zionn/Documents/github/Documents-Retrieval/WT2G/Wt18/B26', '/Users/zionn/Documents/github/Documents-Retrieval/WT2G/Wt18/B27', '/Users/zionn/Documents/github/Documents-Retrieval/WT2G/Wt18/B28', '/Users/zionn/Documents/github/Documents-Retrieval/WT2G/Wt18/B29', '/Users/zionn/Documents/github/Documents-Retrieval/WT2G/Wt18/B30', '/Users/zionn/Documents/github/Documents-Retrieval/WT2G/Wt18/B31', '/Users/zionn/Documents/github/Documents-Retrieval/WT2G/Wt18/B32', '/Users/zionn/Documents/github/Documents-Retrieval/WT2G/Wt18/B33', '/Users/zionn/Documents/github/Documents-Retrieval/WT2G/Wt18/B34', '/Users/zionn/Documents/github/Documents-Retrieval/WT2G/Wt18/B35', '/Users/zionn/Documents/github/Documents-Retrieval/WT2G/Wt18/B36', '/Users/zionn/Documents/github/Documents-Retrieval/WT2G/Wt18/B37', '/Users/zionn/Documents/github/Documents-Retrieval/WT2G/Wt18/B38', '/Users/zionn/Documents/github/Documents-Retrieval/WT2G/Wt18/B39', '/Users/zionn/Documents/github/Documents-Retrieval/WT2G/Wt18/B40', '/Users/zionn/Documents/github/Documents-Retrieval/WT2G/Wt19/B01', '/Users/zionn/Documents/github/Documents-Retrieval/WT2G/Wt19/B02', '/Users/zionn/Documents/github/Documents-Retrieval/WT2G/Wt19/B03', '/Users/zionn/Documents/github/Documents-Retrieval/WT2G/Wt19/B04', '/Users/zionn/Documents/github/Documents-Retrieval/WT2G/Wt19/B05', '/Users/zionn/Documents/github/Documents-Retrieval/WT2G/Wt19/B06', '/Users/zionn/Documents/github/Documents-Retrieval/WT2G/Wt19/B07', '/Users/zionn/Documents/github/Documents-Retrieval/WT2G/Wt19/B08', '/Users/zionn/Documents/github/Documents-Retrieval/WT2G/Wt19/B09', '/Users/zionn/Documents/github/Documents-Retrieval/WT2G/Wt19/B10', '/Users/zionn/Documents/github/Documents-Retrieval/WT2G/Wt19/B11', '/Users/zionn/Documents/github/Documents-Retrieval/WT2G/Wt19/B12', '/Users/zionn/Documents/github/Documents-Retrieval/WT2G/Wt19/B13', '/Users/zionn/Documents/github/Documents-Retrieval/WT2G/Wt19/B14', '/Users/zionn/Documents/github/Documents-Retrieval/WT2G/Wt19/B15', '/Users/zionn/Documents/github/Documents-Retrieval/WT2G/Wt19/B16', '/Users/zionn/Documents/github/Documents-Retrieval/WT2G/Wt19/B17', '/Users/zionn/Documents/github/Documents-Retrieval/WT2G/Wt19/B18', '/Users/zionn/Documents/github/Documents-Retrieval/WT2G/Wt19/B19', '/Users/zionn/Documents/github/Documents-Retrieval/WT2G/Wt19/B20', '/Users/zionn/Documents/github/Documents-Retrieval/WT2G/Wt19/B21', '/Users/zionn/Documents/github/Documents-Retrieval/WT2G/Wt19/B22', '/Users/zionn/Documents/github/Documents-Retrieval/WT2G/Wt19/B23', '/Users/zionn/Documents/github/Documents-Retrieval/WT2G/Wt19/B24', '/Users/zionn/Documents/github/Documents-Retrieval/WT2G/Wt19/B25', '/Users/zionn/Documents/github/Documents-Retrieval/WT2G/Wt19/B26', '/Users/zionn/Documents/github/Documents-Retrieval/WT2G/Wt19/B27', '/Users/zionn/Documents/github/Documents-Retrieval/WT2G/Wt19/B28', '/Users/zionn/Documents/github/Documents-Retrieval/WT2G/Wt19/B29', '/Users/zionn/Documents/github/Documents-Retrieval/WT2G/Wt19/B30', '/Users/zionn/Documents/github/Documents-Retrieval/WT2G/Wt19/B31', '/Users/zionn/Documents/github/Documents-Retrieval/WT2G/Wt19/B32', '/Users/zionn/Documents/github/Documents-Retrieval/WT2G/Wt19/B33', '/Users/zionn/Documents/github/Documents-Retrieval/WT2G/Wt19/B34', '/Users/zionn/Documents/github/Documents-Retrieval/WT2G/Wt19/B35', '/Users/zionn/Documents/github/Documents-Retrieval/WT2G/Wt19/B36', '/Users/zionn/Documents/github/Documents-Retrieval/WT2G/Wt19/B37', '/Users/zionn/Documents/github/Documents-Retrieval/WT2G/Wt19/B38', '/Users/zionn/Documents/github/Documents-Retrieval/WT2G/Wt19/B39', '/Users/zionn/Documents/github/Documents-Retrieval/WT2G/Wt19/B40', '/Users/zionn/Documents/github/Documents-Retrieval/WT2G/Wt20/B01', '/Users/zionn/Documents/github/Documents-Retrieval/WT2G/Wt20/B02', '/Users/zionn/Documents/github/Documents-Retrieval/WT2G/Wt20/B03', '/Users/zionn/Documents/github/Documents-Retrieval/WT2G/Wt20/B04', '/Users/zionn/Documents/github/Documents-Retrieval/WT2G/Wt20/B05', '/Users/zionn/Documents/github/Documents-Retrieval/WT2G/Wt20/B06', '/Users/zionn/Documents/github/Documents-Retrieval/WT2G/Wt20/B07', '/Users/zionn/Documents/github/Documents-Retrieval/WT2G/Wt20/B08', '/Users/zionn/Documents/github/Documents-Retrieval/WT2G/Wt20/B09', '/Users/zionn/Documents/github/Documents-Retrieval/WT2G/Wt20/B10', '/Users/zionn/Documents/github/Documents-Retrieval/WT2G/Wt20/B11', '/Users/zionn/Documents/github/Documents-Retrieval/WT2G/Wt20/B12', '/Users/zionn/Documents/github/Documents-Retrieval/WT2G/Wt20/B13', '/Users/zionn/Documents/github/Documents-Retrieval/WT2G/Wt20/B14', '/Users/zionn/Documents/github/Documents-Retrieval/WT2G/Wt20/B15', '/Users/zionn/Documents/github/Documents-Retrieval/WT2G/Wt20/B16', '/Users/zionn/Documents/github/Documents-Retrieval/WT2G/Wt20/B17', '/Users/zionn/Documents/github/Documents-Retrieval/WT2G/Wt20/B18', '/Users/zionn/Documents/github/Documents-Retrieval/WT2G/Wt20/B19', '/Users/zionn/Documents/github/Documents-Retrieval/WT2G/Wt20/B20', '/Users/zionn/Documents/github/Documents-Retrieval/WT2G/Wt20/B21', '/Users/zionn/Documents/github/Documents-Retrieval/WT2G/Wt20/B22', '/Users/zionn/Documents/github/Documents-Retrieval/WT2G/Wt20/B23', '/Users/zionn/Documents/github/Documents-Retrieval/WT2G/Wt20/B24', '/Users/zionn/Documents/github/Documents-Retrieval/WT2G/Wt20/B25', '/Users/zionn/Documents/github/Documents-Retrieval/WT2G/Wt20/B26', '/Users/zionn/Documents/github/Documents-Retrieval/WT2G/Wt20/B27', '/Users/zionn/Documents/github/Documents-Retrieval/WT2G/Wt20/B28', '/Users/zionn/Documents/github/Documents-Retrieval/WT2G/Wt20/B29', '/Users/zionn/Documents/github/Documents-Retrieval/WT2G/Wt20/B30', '/Users/zionn/Documents/github/Documents-Retrieval/WT2G/Wt20/B31', '/Users/zionn/Documents/github/Documents-Retrieval/WT2G/Wt20/B32', '/Users/zionn/Documents/github/Documents-Retrieval/WT2G/Wt20/B33', '/Users/zionn/Documents/github/Documents-Retrieval/WT2G/Wt20/B34', '/Users/zionn/Documents/github/Documents-Retrieval/WT2G/Wt20/B35', '/Users/zionn/Documents/github/Documents-Retrieval/WT2G/Wt20/B36', '/Users/zionn/Documents/github/Documents-Retrieval/WT2G/Wt20/B37', '/Users/zionn/Documents/github/Documents-Retrieval/WT2G/Wt20/B38', '/Users/zionn/Documents/github/Documents-Retrieval/WT2G/Wt20/B39', '/Users/zionn/Documents/github/Documents-Retrieval/WT2G/Wt20/B40', '/Users/zionn/Documents/github/Documents-Retrieval/WT2G/Wt21/B01', '/Users/zionn/Documents/github/Documents-Retrieval/WT2G/Wt21/B02', '/Users/zionn/Documents/github/Documents-Retrieval/WT2G/Wt21/B03', '/Users/zionn/Documents/github/Documents-Retrieval/WT2G/Wt21/B04', '/Users/zionn/Documents/github/Documents-Retrieval/WT2G/Wt21/B05', '/Users/zionn/Documents/github/Documents-Retrieval/WT2G/Wt21/B06', '/Users/zionn/Documents/github/Documents-Retrieval/WT2G/Wt21/B07', '/Users/zionn/Documents/github/Documents-Retrieval/WT2G/Wt21/B08', '/Users/zionn/Documents/github/Documents-Retrieval/WT2G/Wt21/B09', '/Users/zionn/Documents/github/Documents-Retrieval/WT2G/Wt21/B10', '/Users/zionn/Documents/github/Documents-Retrieval/WT2G/Wt21/B11', '/Users/zionn/Documents/github/Documents-Retrieval/WT2G/Wt21/B12', '/Users/zionn/Documents/github/Documents-Retrieval/WT2G/Wt21/B13', '/Users/zionn/Documents/github/Documents-Retrieval/WT2G/Wt21/B14', '/Users/zionn/Documents/github/Documents-Retrieval/WT2G/Wt21/B15', '/Users/zionn/Documents/github/Documents-Retrieval/WT2G/Wt21/B16', '/Users/zionn/Documents/github/Documents-Retrieval/WT2G/Wt21/B17', '/Users/zionn/Documents/github/Documents-Retrieval/WT2G/Wt21/B18', '/Users/zionn/Documents/github/Documents-Retrieval/WT2G/Wt21/B19', '/Users/zionn/Documents/github/Documents-Retrieval/WT2G/Wt21/B20', '/Users/zionn/Documents/github/Documents-Retrieval/WT2G/Wt21/B21', '/Users/zionn/Documents/github/Documents-Retrieval/WT2G/Wt21/B22', '/Users/zionn/Documents/github/Documents-Retrieval/WT2G/Wt21/B23', '/Users/zionn/Documents/github/Documents-Retrieval/WT2G/Wt21/B24', '/Users/zionn/Documents/github/Documents-Retrieval/WT2G/Wt21/B25', '/Users/zionn/Documents/github/Documents-Retrieval/WT2G/Wt21/B26', '/Users/zionn/Documents/github/Documents-Retrieval/WT2G/Wt21/B27', '/Users/zionn/Documents/github/Documents-Retrieval/WT2G/Wt21/B28', '/Users/zionn/Documents/github/Documents-Retrieval/WT2G/Wt21/B29', '/Users/zionn/Documents/github/Documents-Retrieval/WT2G/Wt21/B30', '/Users/zionn/Documents/github/Documents-Retrieval/WT2G/Wt21/B31', '/Users/zionn/Documents/github/Documents-Retrieval/WT2G/Wt21/B32', '/Users/zionn/Documents/github/Documents-Retrieval/WT2G/Wt21/B33', '/Users/zionn/Documents/github/Documents-Retrieval/WT2G/Wt21/B34', '/Users/zionn/Documents/github/Documents-Retrieval/WT2G/Wt21/B35', '/Users/zionn/Documents/github/Documents-Retrieval/WT2G/Wt21/B36', '/Users/zionn/Documents/github/Documents-Retrieval/WT2G/Wt21/B37', '/Users/zionn/Documents/github/Documents-Retrieval/WT2G/Wt21/B38', '/Users/zionn/Documents/github/Documents-Retrieval/WT2G/Wt21/B39', '/Users/zionn/Documents/github/Documents-Retrieval/WT2G/Wt21/B40', '/Users/zionn/Documents/github/Documents-Retrieval/WT2G/Wt22/B01', '/Users/zionn/Documents/github/Documents-Retrieval/WT2G/Wt22/B02', '/Users/zionn/Documents/github/Documents-Retrieval/WT2G/Wt22/B03', '/Users/zionn/Documents/github/Documents-Retrieval/WT2G/Wt22/B04', '/Users/zionn/Documents/github/Documents-Retrieval/WT2G/Wt22/B05', '/Users/zionn/Documents/github/Documents-Retrieval/WT2G/Wt22/B06', '/Users/zionn/Documents/github/Documents-Retrieval/WT2G/Wt22/B07', '/Users/zionn/Documents/github/Documents-Retrieval/WT2G/Wt22/B08', '/Users/zionn/Documents/github/Documents-Retrieval/WT2G/Wt22/B09', '/Users/zionn/Documents/github/Documents-Retrieval/WT2G/Wt22/B10', '/Users/zionn/Documents/github/Documents-Retrieval/WT2G/Wt22/B11', '/Users/zionn/Documents/github/Documents-Retrieval/WT2G/Wt22/B12', '/Users/zionn/Documents/github/Documents-Retrieval/WT2G/Wt22/B13', '/Users/zionn/Documents/github/Documents-Retrieval/WT2G/Wt22/B14', '/Users/zionn/Documents/github/Documents-Retrieval/WT2G/Wt22/B15', '/Users/zionn/Documents/github/Documents-Retrieval/WT2G/Wt22/B16', '/Users/zionn/Documents/github/Documents-Retrieval/WT2G/Wt22/B17', '/Users/zionn/Documents/github/Documents-Retrieval/WT2G/Wt22/B18', '/Users/zionn/Documents/github/Documents-Retrieval/WT2G/Wt22/B19', '/Users/zionn/Documents/github/Documents-Retrieval/WT2G/Wt22/B20', '/Users/zionn/Documents/github/Documents-Retrieval/WT2G/Wt22/B21', '/Users/zionn/Documents/github/Documents-Retrieval/WT2G/Wt22/B22', '/Users/zionn/Documents/github/Documents-Retrieval/WT2G/Wt22/B23', '/Users/zionn/Documents/github/Documents-Retrieval/WT2G/Wt22/B24', '/Users/zionn/Documents/github/Documents-Retrieval/WT2G/Wt22/B25', '/Users/zionn/Documents/github/Documents-Retrieval/WT2G/Wt22/B26', '/Users/zionn/Documents/github/Documents-Retrieval/WT2G/Wt22/B27', '/Users/zionn/Documents/github/Documents-Retrieval/WT2G/Wt22/B28', '/Users/zionn/Documents/github/Documents-Retrieval/WT2G/Wt22/B29', '/Users/zionn/Documents/github/Documents-Retrieval/WT2G/Wt22/B30', '/Users/zionn/Documents/github/Documents-Retrieval/WT2G/Wt22/B31', '/Users/zionn/Documents/github/Documents-Retrieval/WT2G/Wt22/B32', '/Users/zionn/Documents/github/Documents-Retrieval/WT2G/Wt22/B33', '/Users/zionn/Documents/github/Documents-Retrieval/WT2G/Wt22/B34', '/Users/zionn/Documents/github/Documents-Retrieval/WT2G/Wt22/B35', '/Users/zionn/Documents/github/Documents-Retrieval/WT2G/Wt22/B36', '/Users/zionn/Documents/github/Documents-Retrieval/WT2G/Wt22/B37', '/Users/zionn/Documents/github/Documents-Retrieval/WT2G/Wt22/B38', '/Users/zionn/Documents/github/Documents-Retrieval/WT2G/Wt22/B39', '/Users/zionn/Documents/github/Documents-Retrieval/WT2G/Wt22/B40', '/Users/zionn/Documents/github/Documents-Retrieval/WT2G/Wt23/B01', '/Users/zionn/Documents/github/Documents-Retrieval/WT2G/Wt23/B02', '/Users/zionn/Documents/github/Documents-Retrieval/WT2G/Wt23/B03', '/Users/zionn/Documents/github/Documents-Retrieval/WT2G/Wt23/B04', '/Users/zionn/Documents/github/Documents-Retrieval/WT2G/Wt23/B05', '/Users/zionn/Documents/github/Documents-Retrieval/WT2G/Wt23/B06', '/Users/zionn/Documents/github/Documents-Retrieval/WT2G/Wt23/B07', '/Users/zionn/Documents/github/Documents-Retrieval/WT2G/Wt23/B08', '/Users/zionn/Documents/github/Documents-Retrieval/WT2G/Wt23/B09', '/Users/zionn/Documents/github/Documents-Retrieval/WT2G/Wt23/B10', '/Users/zionn/Documents/github/Documents-Retrieval/WT2G/Wt23/B11', '/Users/zionn/Documents/github/Documents-Retrieval/WT2G/Wt23/B12', '/Users/zionn/Documents/github/Documents-Retrieval/WT2G/Wt23/B13', '/Users/zionn/Documents/github/Documents-Retrieval/WT2G/Wt23/B14', '/Users/zionn/Documents/github/Documents-Retrieval/WT2G/Wt23/B15', '/Users/zionn/Documents/github/Documents-Retrieval/WT2G/Wt23/B16', '/Users/zionn/Documents/github/Documents-Retrieval/WT2G/Wt23/B17', '/Users/zionn/Documents/github/Documents-Retrieval/WT2G/Wt23/B18', '/Users/zionn/Documents/github/Documents-Retrieval/WT2G/Wt23/B19', '/Users/zionn/Documents/github/Documents-Retrieval/WT2G/Wt23/B20', '/Users/zionn/Documents/github/Documents-Retrieval/WT2G/Wt23/B21', '/Users/zionn/Documents/github/Documents-Retrieval/WT2G/Wt23/B22', '/Users/zionn/Documents/github/Documents-Retrieval/WT2G/Wt23/B23', '/Users/zionn/Documents/github/Documents-Retrieval/WT2G/Wt23/B24', '/Users/zionn/Documents/github/Documents-Retrieval/WT2G/Wt23/B25', '/Users/zionn/Documents/github/Documents-Retrieval/WT2G/Wt23/B26', '/Users/zionn/Documents/github/Documents-Retrieval/WT2G/Wt23/B27', '/Users/zionn/Documents/github/Documents-Retrieval/WT2G/Wt23/B28', '/Users/zionn/Documents/github/Documents-Retrieval/WT2G/Wt23/B29', '/Users/zionn/Documents/github/Documents-Retrieval/WT2G/Wt23/B30', '/Users/zionn/Documents/github/Documents-Retrieval/WT2G/Wt23/B31', '/Users/zionn/Documents/github/Documents-Retrieval/WT2G/Wt23/B32', '/Users/zionn/Documents/github/Documents-Retrieval/WT2G/Wt23/B33', '/Users/zionn/Documents/github/Documents-Retrieval/WT2G/Wt23/B34', '/Users/zionn/Documents/github/Documents-Retrieval/WT2G/Wt23/B35', '/Users/zionn/Documents/github/Documents-Retrieval/WT2G/Wt23/B36', '/Users/zionn/Documents/github/Documents-Retrieval/WT2G/Wt23/B37', '/Users/zionn/Documents/github/Documents-Retrieval/WT2G/Wt23/B38', '/Users/zionn/Documents/github/Documents-Retrieval/WT2G/Wt23/B39', '/Users/zionn/Documents/github/Documents-Retrieval/WT2G/Wt23/B40', '/Users/zionn/Documents/github/Documents-Retrieval/WT2G/Wt24/B01', '/Users/zionn/Documents/github/Documents-Retrieval/WT2G/Wt24/B02', '/Users/zionn/Documents/github/Documents-Retrieval/WT2G/Wt24/B03', '/Users/zionn/Documents/github/Documents-Retrieval/WT2G/Wt24/B04', '/Users/zionn/Documents/github/Documents-Retrieval/WT2G/Wt24/B05', '/Users/zionn/Documents/github/Documents-Retrieval/WT2G/Wt24/B06', '/Users/zionn/Documents/github/Documents-Retrieval/WT2G/Wt24/B07', '/Users/zionn/Documents/github/Documents-Retrieval/WT2G/Wt24/B08', '/Users/zionn/Documents/github/Documents-Retrieval/WT2G/Wt24/B09', '/Users/zionn/Documents/github/Documents-Retrieval/WT2G/Wt24/B10', '/Users/zionn/Documents/github/Documents-Retrieval/WT2G/Wt24/B11', '/Users/zionn/Documents/github/Documents-Retrieval/WT2G/Wt24/B12', '/Users/zionn/Documents/github/Documents-Retrieval/WT2G/Wt24/B13', '/Users/zionn/Documents/github/Documents-Retrieval/WT2G/Wt24/B14', '/Users/zionn/Documents/github/Documents-Retrieval/WT2G/Wt24/B15', '/Users/zionn/Documents/github/Documents-Retrieval/WT2G/Wt24/B16', '/Users/zionn/Documents/github/Documents-Retrieval/WT2G/Wt24/B17', '/Users/zionn/Documents/github/Documents-Retrieval/WT2G/Wt24/B18', '/Users/zionn/Documents/github/Documents-Retrieval/WT2G/Wt24/B19', '/Users/zionn/Documents/github/Documents-Retrieval/WT2G/Wt24/B20', '/Users/zionn/Documents/github/Documents-Retrieval/WT2G/Wt24/B21', '/Users/zionn/Documents/github/Documents-Retrieval/WT2G/Wt24/B22', '/Users/zionn/Documents/github/Documents-Retrieval/WT2G/Wt24/B23', '/Users/zionn/Documents/github/Documents-Retrieval/WT2G/Wt24/B24', '/Users/zionn/Documents/github/Documents-Retrieval/WT2G/Wt24/B25', '/Users/zionn/Documents/github/Documents-Retrieval/WT2G/Wt24/B26', '/Users/zionn/Documents/github/Documents-Retrieval/WT2G/Wt24/B27', '/Users/zionn/Documents/github/Documents-Retrieval/WT2G/Wt24/B28', '/Users/zionn/Documents/github/Documents-Retrieval/WT2G/Wt24/B29', '/Users/zionn/Documents/github/Documents-Retrieval/WT2G/Wt24/B30', '/Users/zionn/Documents/github/Documents-Retrieval/WT2G/Wt24/B31', '/Users/zionn/Documents/github/Documents-Retrieval/WT2G/Wt24/B32', '/Users/zionn/Documents/github/Documents-Retrieval/WT2G/Wt24/B33', '/Users/zionn/Documents/github/Documents-Retrieval/WT2G/Wt24/B34', '/Users/zionn/Documents/github/Documents-Retrieval/WT2G/Wt24/B35', '/Users/zionn/Documents/github/Documents-Retrieval/WT2G/Wt24/B36', '/Users/zionn/Documents/github/Documents-Retrieval/WT2G/Wt24/B37', '/Users/zionn/Documents/github/Documents-Retrieval/WT2G/Wt24/B38', '/Users/zionn/Documents/github/Documents-Retrieval/WT2G/Wt24/B39', '/Users/zionn/Documents/github/Documents-Retrieval/WT2G/Wt24/B40', '/Users/zionn/Documents/github/Documents-Retrieval/WT2G/Wt25/B01', '/Users/zionn/Documents/github/Documents-Retrieval/WT2G/Wt25/B02', '/Users/zionn/Documents/github/Documents-Retrieval/WT2G/Wt25/B03', '/Users/zionn/Documents/github/Documents-Retrieval/WT2G/Wt25/B04', '/Users/zionn/Documents/github/Documents-Retrieval/WT2G/Wt25/B05', '/Users/zionn/Documents/github/Documents-Retrieval/WT2G/Wt25/B06', '/Users/zionn/Documents/github/Documents-Retrieval/WT2G/Wt25/B07', '/Users/zionn/Documents/github/Documents-Retrieval/WT2G/Wt25/B08', '/Users/zionn/Documents/github/Documents-Retrieval/WT2G/Wt25/B09', '/Users/zionn/Documents/github/Documents-Retrieval/WT2G/Wt25/B10', '/Users/zionn/Documents/github/Documents-Retrieval/WT2G/Wt25/B11', '/Users/zionn/Documents/github/Documents-Retrieval/WT2G/Wt25/B12', '/Users/zionn/Documents/github/Documents-Retrieval/WT2G/Wt25/B13', '/Users/zionn/Documents/github/Documents-Retrieval/WT2G/Wt25/B14', '/Users/zionn/Documents/github/Documents-Retrieval/WT2G/Wt25/B15', '/Users/zionn/Documents/github/Documents-Retrieval/WT2G/Wt25/B16', '/Users/zionn/Documents/github/Documents-Retrieval/WT2G/Wt25/B17', '/Users/zionn/Documents/github/Documents-Retrieval/WT2G/Wt25/B18', '/Users/zionn/Documents/github/Documents-Retrieval/WT2G/Wt25/B19', '/Users/zionn/Documents/github/Documents-Retrieval/WT2G/Wt25/B20', '/Users/zionn/Documents/github/Documents-Retrieval/WT2G/Wt25/B21', '/Users/zionn/Documents/github/Documents-Retrieval/WT2G/Wt25/B22', '/Users/zionn/Documents/github/Documents-Retrieval/WT2G/Wt25/B23', '/Users/zionn/Documents/github/Documents-Retrieval/WT2G/Wt25/B24', '/Users/zionn/Documents/github/Documents-Retrieval/WT2G/Wt25/B25', '/Users/zionn/Documents/github/Documents-Retrieval/WT2G/Wt25/B26', '/Users/zionn/Documents/github/Documents-Retrieval/WT2G/Wt25/B27', '/Users/zionn/Documents/github/Documents-Retrieval/WT2G/Wt25/B28', '/Users/zionn/Documents/github/Documents-Retrieval/WT2G/Wt25/B29', '/Users/zionn/Documents/github/Documents-Retrieval/WT2G/Wt25/B30', '/Users/zionn/Documents/github/Documents-Retrieval/WT2G/Wt25/B31', '/Users/zionn/Documents/github/Documents-Retrieval/WT2G/Wt25/B32', '/Users/zionn/Documents/github/Documents-Retrieval/WT2G/Wt25/B33', '/Users/zionn/Documents/github/Documents-Retrieval/WT2G/Wt25/B34', '/Users/zionn/Documents/github/Documents-Retrieval/WT2G/Wt25/B35', '/Users/zionn/Documents/github/Documents-Retrieval/WT2G/Wt25/B36', '/Users/zionn/Documents/github/Documents-Retrieval/WT2G/Wt25/B37', '/Users/zionn/Documents/github/Documents-Retrieval/WT2G/Wt25/B38', '/Users/zionn/Documents/github/Documents-Retrieval/WT2G/Wt25/B39', '/Users/zionn/Documents/github/Documents-Retrieval/WT2G/Wt25/B40', '/Users/zionn/Documents/github/Documents-Retrieval/WT2G/Wt26/B01', '/Users/zionn/Documents/github/Documents-Retrieval/WT2G/Wt26/B02', '/Users/zionn/Documents/github/Documents-Retrieval/WT2G/Wt26/B03', '/Users/zionn/Documents/github/Documents-Retrieval/WT2G/Wt26/B04', '/Users/zionn/Documents/github/Documents-Retrieval/WT2G/Wt26/B05', '/Users/zionn/Documents/github/Documents-Retrieval/WT2G/Wt26/B06', '/Users/zionn/Documents/github/Documents-Retrieval/WT2G/Wt26/B07', '/Users/zionn/Documents/github/Documents-Retrieval/WT2G/Wt26/B08', '/Users/zionn/Documents/github/Documents-Retrieval/WT2G/Wt26/B09', '/Users/zionn/Documents/github/Documents-Retrieval/WT2G/Wt26/B10', '/Users/zionn/Documents/github/Documents-Retrieval/WT2G/Wt26/B11', '/Users/zionn/Documents/github/Documents-Retrieval/WT2G/Wt26/B12', '/Users/zionn/Documents/github/Documents-Retrieval/WT2G/Wt26/B13', '/Users/zionn/Documents/github/Documents-Retrieval/WT2G/Wt26/B14', '/Users/zionn/Documents/github/Documents-Retrieval/WT2G/Wt26/B15', '/Users/zionn/Documents/github/Documents-Retrieval/WT2G/Wt26/B16', '/Users/zionn/Documents/github/Documents-Retrieval/WT2G/Wt26/B17', '/Users/zionn/Documents/github/Documents-Retrieval/WT2G/Wt26/B18', '/Users/zionn/Documents/github/Documents-Retrieval/WT2G/Wt26/B19', '/Users/zionn/Documents/github/Documents-Retrieval/WT2G/Wt26/B20', '/Users/zionn/Documents/github/Documents-Retrieval/WT2G/Wt26/B21', '/Users/zionn/Documents/github/Documents-Retrieval/WT2G/Wt26/B22', '/Users/zionn/Documents/github/Documents-Retrieval/WT2G/Wt26/B23', '/Users/zionn/Documents/github/Documents-Retrieval/WT2G/Wt26/B24', '/Users/zionn/Documents/github/Documents-Retrieval/WT2G/Wt26/B25', '/Users/zionn/Documents/github/Documents-Retrieval/WT2G/Wt26/B26', '/Users/zionn/Documents/github/Documents-Retrieval/WT2G/Wt26/B27', '/Users/zionn/Documents/github/Documents-Retrieval/WT2G/Wt26/B28', '/Users/zionn/Documents/github/Documents-Retrieval/WT2G/Wt26/B29', '/Users/zionn/Documents/github/Documents-Retrieval/WT2G/Wt26/B30', '/Users/zionn/Documents/github/Documents-Retrieval/WT2G/Wt26/B31', '/Users/zionn/Documents/github/Documents-Retrieval/WT2G/Wt26/B32', '/Users/zionn/Documents/github/Documents-Retrieval/WT2G/Wt26/B33', '/Users/zionn/Documents/github/Documents-Retrieval/WT2G/Wt26/B34', '/Users/zionn/Documents/github/Documents-Retrieval/WT2G/Wt26/B35', '/Users/zionn/Documents/github/Documents-Retrieval/WT2G/Wt26/B36', '/Users/zionn/Documents/github/Documents-Retrieval/WT2G/Wt26/B37', '/Users/zionn/Documents/github/Documents-Retrieval/WT2G/Wt26/B38', '/Users/zionn/Documents/github/Documents-Retrieval/WT2G/Wt26/B39', '/Users/zionn/Documents/github/Documents-Retrieval/WT2G/Wt26/B40', '/Users/zionn/Documents/github/Documents-Retrieval/WT2G/Wt27/B01', '/Users/zionn/Documents/github/Documents-Retrieval/WT2G/Wt27/B02', '/Users/zionn/Documents/github/Documents-Retrieval/WT2G/Wt27/B03', '/Users/zionn/Documents/github/Documents-Retrieval/WT2G/Wt27/B04', '/Users/zionn/Documents/github/Documents-Retrieval/WT2G/Wt27/B05', '/Users/zionn/Documents/github/Documents-Retrieval/WT2G/Wt27/B06', '/Users/zionn/Documents/github/Documents-Retrieval/WT2G/Wt27/B07', '/Users/zionn/Documents/github/Documents-Retrieval/WT2G/Wt27/B08', '/Users/zionn/Documents/github/Documents-Retrieval/WT2G/Wt27/B09', '/Users/zionn/Documents/github/Documents-Retrieval/WT2G/Wt27/B10', '/Users/zionn/Documents/github/Documents-Retrieval/WT2G/Wt27/B11', '/Users/zionn/Documents/github/Documents-Retrieval/WT2G/Wt27/B12', '/Users/zionn/Documents/github/Documents-Retrieval/WT2G/Wt27/B13', '/Users/zionn/Documents/github/Documents-Retrieval/WT2G/Wt27/B14', '/Users/zionn/Documents/github/Documents-Retrieval/WT2G/Wt27/B15', '/Users/zionn/Documents/github/Documents-Retrieval/WT2G/Wt27/B16', '/Users/zionn/Documents/github/Documents-Retrieval/WT2G/Wt27/B17', '/Users/zionn/Documents/github/Documents-Retrieval/WT2G/Wt27/B18', '/Users/zionn/Documents/github/Documents-Retrieval/WT2G/Wt27/B19', '/Users/zionn/Documents/github/Documents-Retrieval/WT2G/Wt27/B20', '/Users/zionn/Documents/github/Documents-Retrieval/WT2G/Wt27/B21', '/Users/zionn/Documents/github/Documents-Retrieval/WT2G/Wt27/B22', '/Users/zionn/Documents/github/Documents-Retrieval/WT2G/Wt27/B23', '/Users/zionn/Documents/github/Documents-Retrieval/WT2G/Wt27/B24', '/Users/zionn/Documents/github/Documents-Retrieval/WT2G/Wt27/B25', '/Users/zionn/Documents/github/Documents-Retrieval/WT2G/Wt27/B26', '/Users/zionn/Documents/github/Documents-Retrieval/WT2G/Wt27/B27', '/Users/zionn/Documents/github/Documents-Retrieval/WT2G/Wt27/B28', '/Users/zionn/Documents/github/Documents-Retrieval/WT2G/Wt27/B29', '/Users/zionn/Documents/github/Documents-Retrieval/WT2G/Wt27/B30', '/Users/zionn/Documents/github/Documents-Retrieval/WT2G/Wt27/B31', '/Users/zionn/Documents/github/Documents-Retrieval/WT2G/Wt27/B32', '/Users/zionn/Documents/github/Documents-Retrieval/WT2G/Wt27/B33', '/Users/zionn/Documents/github/Documents-Retrieval/WT2G/Wt27/B34', '/Users/zionn/Documents/github/Documents-Retrieval/WT2G/Wt27/B35', '/Users/zionn/Documents/github/Documents-Retrieval/WT2G/Wt27/B36', '/Users/zionn/Documents/github/Documents-Retrieval/WT2G/Wt27/B37', '/Users/zionn/Documents/github/Documents-Retrieval/WT2G/Wt27/B38', '/Users/zionn/Documents/github/Documents-Retrieval/WT2G/Wt27/B39', '/Users/zionn/Documents/github/Documents-Retrieval/WT2G/Wt27/B40', '/Users/zionn/Documents/github/Documents-Retrieval/WT2G/Wt28/B01']\n"
          ]
        }
      ],
      "source": [
        "WT2G_dir = os.path.join(os.path.dirname(os.getcwd()), \"WT2G\")\n",
        "files = pt.io.find_files(WT2G_dir)\n",
        "print(files)"
      ]
    },
    {
      "cell_type": "code",
      "execution_count": 6,
      "metadata": {
        "id": "462dAdixw92_"
      },
      "outputs": [
        {
          "name": "stderr",
          "output_type": "stream",
          "text": [
            "1082files [06:16,  2.87files/s]                       \n"
          ]
        }
      ],
      "source": [
        "# build the index\n",
        "index_path = os.path.join(os.path.dirname(os.getcwd()), \"wt2g_index\")\n",
        "indexer = pt.TRECCollectionIndexer(\n",
        "    index_path,\n",
        "    verbose=True,\n",
        "    blocks=False,\n",
        "\n",
        ")\n",
        "index_ref = indexer.index(files)\n",
        "# if \"data.properties\" not in os.listdir(\"wt2g_index\"):\n",
        "#     indexref = indexer.index(files)\n",
        "\n",
        "#     # load the index, print the statistics\n",
        "#     index = pt.IndexFactory.of(indexref)\n",
        "# else:\n",
        "#     index = pt.IndexFactory.of(\"wt2g_index/data.properties\")\n",
        "\n",
        "# print(index.getCollectionStatistics().toString())"
      ]
    },
    {
      "cell_type": "code",
      "execution_count": null,
      "metadata": {},
      "outputs": [],
      "source": [
        "'''\n",
        "# list of filenames to index\n",
        "files = pt.io.find_files(working_dir + \"WT2G/\")\n",
        "\n",
        "# build the index\n",
        "indexer = pt.TRECCollectionIndexer(working_dir + \"wt2g_index_withoutstemstop\", verbose=True, blocks=False, stemmer=None, stopwords=None)\n",
        "if \"data.properties\" not in os.listdir(working_dir + \"wt2g_index_withoutstemstop\"):\n",
        "    indexref = indexer.index(files)\n",
        "\n",
        "    # load the index, print the statistics\n",
        "    index = pt.IndexFactory.of(indexref)\n",
        "else:\n",
        "    index = pt.IndexFactory.of(working_dir + \"wt2g_index_withoutstemstop/data.properties\")\n",
        "    \n",
        "print(index.getCollectionStatistics().toString())\n",
        "'''\n"
      ]
    },
    {
      "cell_type": "markdown",
      "metadata": {
        "id": "twV3AHJ0zeK6"
      },
      "source": [
        "# Read Topics and Qrels"
      ]
    },
    {
      "cell_type": "code",
      "execution_count": 12,
      "metadata": {
        "colab": {
          "base_uri": "https://localhost:8080/",
          "height": 539
        },
        "id": "DsXyfmLQzopE",
        "outputId": "705ad3fb-5a16-4e4e-f4f7-596ba2b246aa"
      },
      "outputs": [],
      "source": [
        "topics = pt.io.read_topics(working_dir + \"/topics.401-450.txt\")\n",
        "qrels = pt.io.read_qrels(working_dir + \"/qrels.trec8.small_web\")\n",
        "# qrels = pt.io.read_qrels(working_dir + \"qrels.trec8.small_web.gz\")"
      ]
    },
    {
      "cell_type": "code",
      "execution_count": 13,
      "metadata": {},
      "outputs": [
        {
          "name": "stdout",
          "output_type": "stream",
          "text": [
            "    qid                              query\n",
            "0   401         foreign minorities germany\n",
            "1   402                behavioral genetics\n",
            "2   403                       osteoporosis\n",
            "3   404                ireland peace talks\n",
            "4   405                      cosmic events\n",
            "5   406                parkinson s disease\n",
            "6   407        poaching wildlife preserves\n",
            "7   408                    tropical storms\n",
            "8   409                   legal pan am 103\n",
            "9   410                 schengen agreement\n",
            "10  411       salvaging shipwreck treasure\n",
            "11  412                   airport security\n",
            "12  413                   steel production\n",
            "13  414                 cuba sugar exports\n",
            "14  415              drugs golden triangle\n",
            "15  416               three gorges project\n",
            "16  417                         creativity\n",
            "17  418                      quilts income\n",
            "18  419           recycle automobile tires\n",
            "19  420          carbon monoxide poisoning\n",
            "20  421          industrial waste disposal\n",
            "21  422                  art stolen forged\n",
            "22  423         milosevic mirjana markovic\n",
            "23  424                           suicides\n",
            "24  425               counterfeiting money\n",
            "25  426               law enforcement dogs\n",
            "26  427                     uv damage eyes\n",
            "27  428              declining birth rates\n",
            "28  429               legionnaires disease\n",
            "29  430                 killer bee attacks\n",
            "30  431                 robotic technology\n",
            "31  432         profiling motorists police\n",
            "32  433          greek philosophy stoicism\n",
            "33  434                    estonia economy\n",
            "34  435          curbing population growth\n",
            "35  436                  railway accidents\n",
            "36  437          deregulation gas electric\n",
            "37  438                   tourism increase\n",
            "38  439  inventions scientific discoveries\n",
            "39  440                        child labor\n",
            "40  441                       lyme disease\n",
            "41  442                        heroic acts\n",
            "42  443              u s investment africa\n",
            "43  444               supercritical fluids\n",
            "44  445                       women clergy\n",
            "45  446                  tourists violence\n",
            "46  447                    stirling engine\n",
            "47  448                        ship losses\n",
            "48  449        antibiotics ineffectiveness\n",
            "49  450                 king hussein peace\n"
          ]
        }
      ],
      "source": [
        "print(topics)"
      ]
    },
    {
      "cell_type": "code",
      "execution_count": 14,
      "metadata": {},
      "outputs": [
        {
          "name": "stdout",
          "output_type": "stream",
          "text": [
            "       qid         docno  label\n",
            "0      401  WT01-B04-284      0\n",
            "1      401    WT01-B05-1      0\n",
            "2      401   WT01-B05-19      0\n",
            "3      401    WT01-B05-2      0\n",
            "4      401    WT01-B05-3      0\n",
            "...    ...           ...    ...\n",
            "47501  450   WT27-B03-32      0\n",
            "47502  450   WT27-B04-97      0\n",
            "47503  450  WT27-B10-341      0\n",
            "47504  450   WT27-B13-76      0\n",
            "47505  450  WT27-B24-355      0\n",
            "\n",
            "[47506 rows x 3 columns]\n"
          ]
        }
      ],
      "source": [
        "print(qrels)"
      ]
    },
    {
      "cell_type": "markdown",
      "metadata": {
        "id": "Pj7a-IwIzyrP"
      },
      "source": [
        "# Retrieval Models"
      ]
    },
    {
      "cell_type": "code",
      "execution_count": 16,
      "metadata": {
        "colab": {
          "base_uri": "https://localhost:8080/",
          "height": 35
        },
        "id": "pj8n1jFgz1JP",
        "outputId": "53971a62-ca29-43cd-98ba-f19c92a6b342"
      },
      "outputs": [],
      "source": [
        "tfidf = pt.BatchRetrieve(index_path, wmodel=\"TF_IDF\")\n",
        "tfidf_new = pt.BatchRetrieve(index_path, wmodel=\"TF_IDF\", controls={\"tf_idf.k_1\":2, \"tf_idf.b\":0.75})\n",
        "lemurtfidf = pt.BatchRetrieve(index_path, wmodel=\"LemurTF_IDF\")\n",
        "bm25 = pt.BatchRetrieve(index_path, controls={\"wmodel\": \"BM25\"})\n",
        "pl2 = pt.BatchRetrieve(index_path, controls={\"wmodel\": \"PL2\"})\n",
        "hiemstra = pt.BatchRetrieve(index_path, controls={\"wmodel\": \"Hiemstra_LM\"})\n",
        "dirichlet = pt.BatchRetrieve(index_path, controls={\"wmodel\": \"DirichletLM\"})"
      ]
    },
    {
      "cell_type": "code",
      "execution_count": 17,
      "metadata": {},
      "outputs": [],
      "source": [
        "rerank_1 = (bm25 % 100) >> dirichlet"
      ]
    },
    {
      "cell_type": "markdown",
      "metadata": {
        "id": "x49gKUqt0AYV"
      },
      "source": [
        "# Retrieval"
      ]
    },
    {
      "cell_type": "code",
      "execution_count": 18,
      "metadata": {
        "colab": {
          "base_uri": "https://localhost:8080/",
          "height": 183
        },
        "id": "-NaQPmDs0Xq3",
        "outputId": "6aad0426-4667-45e2-a07d-7841365cfc24"
      },
      "outputs": [],
      "source": [
        "res_tfidf = tfidf.transform(topics)\n",
        "res_tfidf_new = tfidf_new.transform(topics)\n",
        "res_lemurtfidf = lemurtfidf.transform(topics)\n",
        "res_bm25 = bm25.transform(topics)\n",
        "res_pl2 = pl2.transform(topics)\n",
        "res_hiemastra = hiemstra.transform(topics)\n",
        "res_dirichlet = dirichlet.transform(topics)\n",
        "res_rerank_1 = rerank_1.transform(topics)"
      ]
    },
    {
      "cell_type": "markdown",
      "metadata": {},
      "source": [
        "# Learning to Rank"
      ]
    },
    {
      "cell_type": "code",
      "execution_count": 19,
      "metadata": {},
      "outputs": [
        {
          "data": {
            "text/html": [
              "<div>\n",
              "<style scoped>\n",
              "    .dataframe tbody tr th:only-of-type {\n",
              "        vertical-align: middle;\n",
              "    }\n",
              "\n",
              "    .dataframe tbody tr th {\n",
              "        vertical-align: top;\n",
              "    }\n",
              "\n",
              "    .dataframe thead th {\n",
              "        text-align: right;\n",
              "    }\n",
              "</style>\n",
              "<table border=\"1\" class=\"dataframe\">\n",
              "  <thead>\n",
              "    <tr style=\"text-align: right;\">\n",
              "      <th></th>\n",
              "      <th>name</th>\n",
              "      <th>map</th>\n",
              "    </tr>\n",
              "  </thead>\n",
              "  <tbody>\n",
              "    <tr>\n",
              "      <th>0</th>\n",
              "      <td>BM25 Baseline</td>\n",
              "      <td>0.258559</td>\n",
              "    </tr>\n",
              "    <tr>\n",
              "      <th>1</th>\n",
              "      <td>LTR</td>\n",
              "      <td>0.751191</td>\n",
              "    </tr>\n",
              "  </tbody>\n",
              "</table>\n",
              "</div>"
            ],
            "text/plain": [
              "            name       map\n",
              "0  BM25 Baseline  0.258559\n",
              "1            LTR  0.751191"
            ]
          },
          "execution_count": 19,
          "metadata": {},
          "output_type": "execute_result"
        }
      ],
      "source": [
        "from sklearn.ensemble import RandomForestRegressor\n",
        "\n",
        "pipeline = bm25 >> (tfidf ** pl2)\n",
        "rf = RandomForestRegressor(n_estimators=400)\n",
        "rf_pipe = pipeline >> pt.ltr.apply_learned_model(rf)\n",
        "rf_pipe.fit(topics, qrels)\n",
        "pt.Experiment(\n",
        "    [bm25, rf_pipe], \n",
        "    topics, \n",
        "    qrels, \n",
        "    [\"map\"], \n",
        "    names=[\"BM25 Baseline\", \"LTR\"]\n",
        "    )"
      ]
    },
    {
      "cell_type": "code",
      "execution_count": 23,
      "metadata": {},
      "outputs": [
        {
          "name": "stderr",
          "output_type": "stream",
          "text": [
            "/Users/zionn/Documents/github/Documents-Retrieval/.venv/lib/python3.11/site-packages/xgboost/core.py:160: UserWarning: [21:14:34] WARNING: /Users/runner/work/xgboost/xgboost/src/learner.cc:742: \n",
            "Parameters: { \"verbose\" } are not used.\n",
            "\n",
            "  warnings.warn(smsg, UserWarning)\n"
          ]
        }
      ],
      "source": [
        "import xgboost as xgb\n",
        "# this configures XGBoost as LambdaMART\n",
        "lmart_x = xgb.sklearn.XGBRanker(\n",
        "      objective='rank:ndcg',\n",
        "      learning_rate=0.1,\n",
        "      gamma=1.0,\n",
        "      min_child_weight=0.1,\n",
        "      max_depth=10,\n",
        "      verbose=2,\n",
        "      random_state=42\n",
        ")\n",
        "\n",
        "lmart_x_pipe = pipeline >> pt.ltr.apply_learned_model(lmart_x, form=\"ltr\")\n",
        "lmart_x_pipe.fit(topics, qrels, topics, qrels)"
      ]
    },
    {
      "cell_type": "markdown",
      "metadata": {},
      "source": [
        "# Experiment Result"
      ]
    },
    {
      "cell_type": "code",
      "execution_count": null,
      "metadata": {},
      "outputs": [],
      "source": [
        "pt.Experiment(\n",
        "    [tfidf, tfidf_new, lemurtfidf],\n",
        "    topics,\n",
        "    qrels,\n",
        "    eval_metrics=[R@10, P@10, P@200, MAP, MAP@10, MAP@100, NDCG@100, Rprec]\n",
        "    )"
      ]
    },
    {
      "cell_type": "code",
      "execution_count": null,
      "metadata": {},
      "outputs": [],
      "source": [
        "pt.Experiment(\n",
        "    [bm25, pl2, hiemstra, dirichlet],\n",
        "    topics,\n",
        "    qrels,\n",
        "    eval_metrics=[R@10, P@10, P@200, MAP, MAP@10, MAP@100, NDCG@100, Rprec]\n",
        "    )"
      ]
    },
    {
      "cell_type": "code",
      "execution_count": 21,
      "metadata": {},
      "outputs": [
        {
          "ename": "NameError",
          "evalue": "name 'lmart_x_pipe' is not defined",
          "output_type": "error",
          "traceback": [
            "\u001b[0;31m---------------------------------------------------------------------------\u001b[0m",
            "\u001b[0;31mNameError\u001b[0m                                 Traceback (most recent call last)",
            "\u001b[1;32m/Users/zionn/Documents/github/Documents-Retrieval/code/pyterrier.ipynb Cell 24\u001b[0m line \u001b[0;36m2\n\u001b[1;32m      <a href='vscode-notebook-cell:/Users/zionn/Documents/github/Documents-Retrieval/code/pyterrier.ipynb#X26sZmlsZQ%3D%3D?line=0'>1</a>\u001b[0m pt\u001b[39m.\u001b[39mExperiment(\n\u001b[0;32m----> <a href='vscode-notebook-cell:/Users/zionn/Documents/github/Documents-Retrieval/code/pyterrier.ipynb#X26sZmlsZQ%3D%3D?line=1'>2</a>\u001b[0m     [rerank_1, rf_pipe, lmart_x_pipe],\n\u001b[1;32m      <a href='vscode-notebook-cell:/Users/zionn/Documents/github/Documents-Retrieval/code/pyterrier.ipynb#X26sZmlsZQ%3D%3D?line=2'>3</a>\u001b[0m     topics,\n\u001b[1;32m      <a href='vscode-notebook-cell:/Users/zionn/Documents/github/Documents-Retrieval/code/pyterrier.ipynb#X26sZmlsZQ%3D%3D?line=3'>4</a>\u001b[0m     qrels,\n\u001b[1;32m      <a href='vscode-notebook-cell:/Users/zionn/Documents/github/Documents-Retrieval/code/pyterrier.ipynb#X26sZmlsZQ%3D%3D?line=4'>5</a>\u001b[0m     eval_metrics\u001b[39m=\u001b[39m[R\u001b[39m@\u001b[39m\u001b[39m10\u001b[39m, P\u001b[39m@\u001b[39m\u001b[39m10\u001b[39m, P\u001b[39m@\u001b[39m\u001b[39m200\u001b[39m, MAP, MAP\u001b[39m@\u001b[39m\u001b[39m10\u001b[39m, MAP\u001b[39m@\u001b[39m\u001b[39m100\u001b[39m, NDCG\u001b[39m@\u001b[39m\u001b[39m100\u001b[39m, Rprec]\n\u001b[1;32m      <a href='vscode-notebook-cell:/Users/zionn/Documents/github/Documents-Retrieval/code/pyterrier.ipynb#X26sZmlsZQ%3D%3D?line=5'>6</a>\u001b[0m     )\n",
            "\u001b[0;31mNameError\u001b[0m: name 'lmart_x_pipe' is not defined"
          ]
        }
      ],
      "source": [
        "pt.Experiment(\n",
        "    [rerank_1, rf_pipe, lmart_x_pipe],\n",
        "    topics,\n",
        "    qrels,\n",
        "    eval_metrics=[R@10, P@10, P@200, MAP, MAP@10, MAP@100, NDCG@100, Rprec]\n",
        "    )"
      ]
    },
    {
      "cell_type": "code",
      "execution_count": 24,
      "metadata": {},
      "outputs": [],
      "source": [
        "res = pt.Experiment(\n",
        "    [tfidf, tfidf_new, lemurtfidf, bm25, pl2, hiemstra, dirichlet, rerank_1, rf_pipe, lmart_x_pipe],\n",
        "    topics,\n",
        "    qrels,\n",
        "    eval_metrics=[R@10, P@10, P@200, MAP, MAP@10, MAP@100, NDCG@100, Rprec]\n",
        "    )"
      ]
    },
    {
      "cell_type": "code",
      "execution_count": 52,
      "metadata": {},
      "outputs": [
        {
          "data": {
            "text/html": [
              "<div>\n",
              "<style scoped>\n",
              "    .dataframe tbody tr th:only-of-type {\n",
              "        vertical-align: middle;\n",
              "    }\n",
              "\n",
              "    .dataframe tbody tr th {\n",
              "        vertical-align: top;\n",
              "    }\n",
              "\n",
              "    .dataframe thead th {\n",
              "        text-align: right;\n",
              "    }\n",
              "</style>\n",
              "<table border=\"1\" class=\"dataframe\">\n",
              "  <thead>\n",
              "    <tr style=\"text-align: right;\">\n",
              "      <th></th>\n",
              "      <th>name</th>\n",
              "      <th>R@10</th>\n",
              "      <th>P@10</th>\n",
              "      <th>P@200</th>\n",
              "      <th>AP</th>\n",
              "      <th>AP@10</th>\n",
              "      <th>AP@100</th>\n",
              "      <th>nDCG@100</th>\n",
              "      <th>Rprec</th>\n",
              "    </tr>\n",
              "  </thead>\n",
              "  <tbody>\n",
              "    <tr>\n",
              "      <th>0</th>\n",
              "      <td>BR(TF_IDF)</td>\n",
              "      <td>0.151732</td>\n",
              "      <td>0.432</td>\n",
              "      <td>0.1205</td>\n",
              "      <td>0.259946</td>\n",
              "      <td>0.109068</td>\n",
              "      <td>0.222950</td>\n",
              "      <td>0.426088</td>\n",
              "      <td>0.314013</td>\n",
              "    </tr>\n",
              "    <tr>\n",
              "      <th>1</th>\n",
              "      <td>BR(TF_IDF)</td>\n",
              "      <td>0.135986</td>\n",
              "      <td>0.410</td>\n",
              "      <td>0.1135</td>\n",
              "      <td>0.241770</td>\n",
              "      <td>0.098658</td>\n",
              "      <td>0.207276</td>\n",
              "      <td>0.408773</td>\n",
              "      <td>0.293293</td>\n",
              "    </tr>\n",
              "    <tr>\n",
              "      <th>2</th>\n",
              "      <td>BR(LemurTF_IDF)</td>\n",
              "      <td>0.128323</td>\n",
              "      <td>0.388</td>\n",
              "      <td>0.1159</td>\n",
              "      <td>0.240003</td>\n",
              "      <td>0.089670</td>\n",
              "      <td>0.200419</td>\n",
              "      <td>0.394980</td>\n",
              "      <td>0.282482</td>\n",
              "    </tr>\n",
              "    <tr>\n",
              "      <th>3</th>\n",
              "      <td>BR(BM25)</td>\n",
              "      <td>0.151732</td>\n",
              "      <td>0.432</td>\n",
              "      <td>0.1209</td>\n",
              "      <td>0.258559</td>\n",
              "      <td>0.108608</td>\n",
              "      <td>0.221041</td>\n",
              "      <td>0.422593</td>\n",
              "      <td>0.313925</td>\n",
              "    </tr>\n",
              "    <tr>\n",
              "      <th>4</th>\n",
              "      <td>BR(PL2)</td>\n",
              "      <td>0.130725</td>\n",
              "      <td>0.402</td>\n",
              "      <td>0.1097</td>\n",
              "      <td>0.224116</td>\n",
              "      <td>0.093114</td>\n",
              "      <td>0.190089</td>\n",
              "      <td>0.385312</td>\n",
              "      <td>0.276776</td>\n",
              "    </tr>\n",
              "    <tr>\n",
              "      <th>5</th>\n",
              "      <td>BR(Hiemstra_LM)</td>\n",
              "      <td>0.103248</td>\n",
              "      <td>0.302</td>\n",
              "      <td>0.1018</td>\n",
              "      <td>0.194431</td>\n",
              "      <td>0.073939</td>\n",
              "      <td>0.159929</td>\n",
              "      <td>0.333360</td>\n",
              "      <td>0.221769</td>\n",
              "    </tr>\n",
              "    <tr>\n",
              "      <th>6</th>\n",
              "      <td>BR(DirichletLM)</td>\n",
              "      <td>0.151239</td>\n",
              "      <td>0.450</td>\n",
              "      <td>0.1341</td>\n",
              "      <td>0.303469</td>\n",
              "      <td>0.119195</td>\n",
              "      <td>0.259979</td>\n",
              "      <td>0.469072</td>\n",
              "      <td>0.310013</td>\n",
              "    </tr>\n",
              "    <tr>\n",
              "      <th>7</th>\n",
              "      <td>Compose(RankCutoff(BR(BM25), 100), BR(Dirichle...</td>\n",
              "      <td>0.153752</td>\n",
              "      <td>0.460</td>\n",
              "      <td>0.0908</td>\n",
              "      <td>0.246076</td>\n",
              "      <td>0.120448</td>\n",
              "      <td>0.246076</td>\n",
              "      <td>0.444932</td>\n",
              "      <td>0.308065</td>\n",
              "    </tr>\n",
              "    <tr>\n",
              "      <th>8</th>\n",
              "      <td>Compose(Compose(BR(BM25), FUnion(BR(TF_IDF), B...</td>\n",
              "      <td>0.354433</td>\n",
              "      <td>0.960</td>\n",
              "      <td>0.1746</td>\n",
              "      <td>0.751191</td>\n",
              "      <td>0.352715</td>\n",
              "      <td>0.746244</td>\n",
              "      <td>0.831291</td>\n",
              "      <td>0.751414</td>\n",
              "    </tr>\n",
              "    <tr>\n",
              "      <th>9</th>\n",
              "      <td>Compose(Compose(BR(BM25), FUnion(BR(TF_IDF), B...</td>\n",
              "      <td>0.151528</td>\n",
              "      <td>0.448</td>\n",
              "      <td>0.1183</td>\n",
              "      <td>0.251718</td>\n",
              "      <td>0.103719</td>\n",
              "      <td>0.216402</td>\n",
              "      <td>0.424676</td>\n",
              "      <td>0.299643</td>\n",
              "    </tr>\n",
              "  </tbody>\n",
              "</table>\n",
              "</div>"
            ],
            "text/plain": [
              "                                                name      R@10   P@10   P@200  \\\n",
              "0                                         BR(TF_IDF)  0.151732  0.432  0.1205   \n",
              "1                                         BR(TF_IDF)  0.135986  0.410  0.1135   \n",
              "2                                    BR(LemurTF_IDF)  0.128323  0.388  0.1159   \n",
              "3                                           BR(BM25)  0.151732  0.432  0.1209   \n",
              "4                                            BR(PL2)  0.130725  0.402  0.1097   \n",
              "5                                    BR(Hiemstra_LM)  0.103248  0.302  0.1018   \n",
              "6                                    BR(DirichletLM)  0.151239  0.450  0.1341   \n",
              "7  Compose(RankCutoff(BR(BM25), 100), BR(Dirichle...  0.153752  0.460  0.0908   \n",
              "8  Compose(Compose(BR(BM25), FUnion(BR(TF_IDF), B...  0.354433  0.960  0.1746   \n",
              "9  Compose(Compose(BR(BM25), FUnion(BR(TF_IDF), B...  0.151528  0.448  0.1183   \n",
              "\n",
              "         AP     AP@10    AP@100  nDCG@100     Rprec  \n",
              "0  0.259946  0.109068  0.222950  0.426088  0.314013  \n",
              "1  0.241770  0.098658  0.207276  0.408773  0.293293  \n",
              "2  0.240003  0.089670  0.200419  0.394980  0.282482  \n",
              "3  0.258559  0.108608  0.221041  0.422593  0.313925  \n",
              "4  0.224116  0.093114  0.190089  0.385312  0.276776  \n",
              "5  0.194431  0.073939  0.159929  0.333360  0.221769  \n",
              "6  0.303469  0.119195  0.259979  0.469072  0.310013  \n",
              "7  0.246076  0.120448  0.246076  0.444932  0.308065  \n",
              "8  0.751191  0.352715  0.746244  0.831291  0.751414  \n",
              "9  0.251718  0.103719  0.216402  0.424676  0.299643  "
            ]
          },
          "execution_count": 52,
          "metadata": {},
          "output_type": "execute_result"
        }
      ],
      "source": [
        "res"
      ]
    },
    {
      "cell_type": "code",
      "execution_count": 51,
      "metadata": {},
      "outputs": [
        {
          "data": {
            "text/html": [
              "<style type=\"text/css\">\n",
              "#T_6b401_row8_col0, #T_6b401_row8_col1, #T_6b401_row8_col2, #T_6b401_row8_col3, #T_6b401_row8_col4, #T_6b401_row8_col5, #T_6b401_row8_col6, #T_6b401_row8_col7 {\n",
              "  background-color: yellow;\n",
              "}\n",
              "</style>\n",
              "<table id=\"T_6b401\">\n",
              "  <thead>\n",
              "    <tr>\n",
              "      <th class=\"blank level0\" >&nbsp;</th>\n",
              "      <th id=\"T_6b401_level0_col0\" class=\"col_heading level0 col0\" >R@10</th>\n",
              "      <th id=\"T_6b401_level0_col1\" class=\"col_heading level0 col1\" >P@10</th>\n",
              "      <th id=\"T_6b401_level0_col2\" class=\"col_heading level0 col2\" >P@200</th>\n",
              "      <th id=\"T_6b401_level0_col3\" class=\"col_heading level0 col3\" >AP</th>\n",
              "      <th id=\"T_6b401_level0_col4\" class=\"col_heading level0 col4\" >AP@10</th>\n",
              "      <th id=\"T_6b401_level0_col5\" class=\"col_heading level0 col5\" >AP@100</th>\n",
              "      <th id=\"T_6b401_level0_col6\" class=\"col_heading level0 col6\" >nDCG@100</th>\n",
              "      <th id=\"T_6b401_level0_col7\" class=\"col_heading level0 col7\" >Rprec</th>\n",
              "    </tr>\n",
              "  </thead>\n",
              "  <tbody>\n",
              "    <tr>\n",
              "      <th id=\"T_6b401_level0_row0\" class=\"row_heading level0 row0\" >0</th>\n",
              "      <td id=\"T_6b401_row0_col0\" class=\"data row0 col0\" >0.151732</td>\n",
              "      <td id=\"T_6b401_row0_col1\" class=\"data row0 col1\" >0.432000</td>\n",
              "      <td id=\"T_6b401_row0_col2\" class=\"data row0 col2\" >0.120500</td>\n",
              "      <td id=\"T_6b401_row0_col3\" class=\"data row0 col3\" >0.259946</td>\n",
              "      <td id=\"T_6b401_row0_col4\" class=\"data row0 col4\" >0.109068</td>\n",
              "      <td id=\"T_6b401_row0_col5\" class=\"data row0 col5\" >0.222950</td>\n",
              "      <td id=\"T_6b401_row0_col6\" class=\"data row0 col6\" >0.426088</td>\n",
              "      <td id=\"T_6b401_row0_col7\" class=\"data row0 col7\" >0.314013</td>\n",
              "    </tr>\n",
              "    <tr>\n",
              "      <th id=\"T_6b401_level0_row1\" class=\"row_heading level0 row1\" >1</th>\n",
              "      <td id=\"T_6b401_row1_col0\" class=\"data row1 col0\" >0.135986</td>\n",
              "      <td id=\"T_6b401_row1_col1\" class=\"data row1 col1\" >0.410000</td>\n",
              "      <td id=\"T_6b401_row1_col2\" class=\"data row1 col2\" >0.113500</td>\n",
              "      <td id=\"T_6b401_row1_col3\" class=\"data row1 col3\" >0.241770</td>\n",
              "      <td id=\"T_6b401_row1_col4\" class=\"data row1 col4\" >0.098658</td>\n",
              "      <td id=\"T_6b401_row1_col5\" class=\"data row1 col5\" >0.207276</td>\n",
              "      <td id=\"T_6b401_row1_col6\" class=\"data row1 col6\" >0.408773</td>\n",
              "      <td id=\"T_6b401_row1_col7\" class=\"data row1 col7\" >0.293293</td>\n",
              "    </tr>\n",
              "    <tr>\n",
              "      <th id=\"T_6b401_level0_row2\" class=\"row_heading level0 row2\" >2</th>\n",
              "      <td id=\"T_6b401_row2_col0\" class=\"data row2 col0\" >0.128323</td>\n",
              "      <td id=\"T_6b401_row2_col1\" class=\"data row2 col1\" >0.388000</td>\n",
              "      <td id=\"T_6b401_row2_col2\" class=\"data row2 col2\" >0.115900</td>\n",
              "      <td id=\"T_6b401_row2_col3\" class=\"data row2 col3\" >0.240003</td>\n",
              "      <td id=\"T_6b401_row2_col4\" class=\"data row2 col4\" >0.089670</td>\n",
              "      <td id=\"T_6b401_row2_col5\" class=\"data row2 col5\" >0.200419</td>\n",
              "      <td id=\"T_6b401_row2_col6\" class=\"data row2 col6\" >0.394980</td>\n",
              "      <td id=\"T_6b401_row2_col7\" class=\"data row2 col7\" >0.282482</td>\n",
              "    </tr>\n",
              "    <tr>\n",
              "      <th id=\"T_6b401_level0_row3\" class=\"row_heading level0 row3\" >3</th>\n",
              "      <td id=\"T_6b401_row3_col0\" class=\"data row3 col0\" >0.151732</td>\n",
              "      <td id=\"T_6b401_row3_col1\" class=\"data row3 col1\" >0.432000</td>\n",
              "      <td id=\"T_6b401_row3_col2\" class=\"data row3 col2\" >0.120900</td>\n",
              "      <td id=\"T_6b401_row3_col3\" class=\"data row3 col3\" >0.258559</td>\n",
              "      <td id=\"T_6b401_row3_col4\" class=\"data row3 col4\" >0.108608</td>\n",
              "      <td id=\"T_6b401_row3_col5\" class=\"data row3 col5\" >0.221041</td>\n",
              "      <td id=\"T_6b401_row3_col6\" class=\"data row3 col6\" >0.422593</td>\n",
              "      <td id=\"T_6b401_row3_col7\" class=\"data row3 col7\" >0.313925</td>\n",
              "    </tr>\n",
              "    <tr>\n",
              "      <th id=\"T_6b401_level0_row4\" class=\"row_heading level0 row4\" >4</th>\n",
              "      <td id=\"T_6b401_row4_col0\" class=\"data row4 col0\" >0.130725</td>\n",
              "      <td id=\"T_6b401_row4_col1\" class=\"data row4 col1\" >0.402000</td>\n",
              "      <td id=\"T_6b401_row4_col2\" class=\"data row4 col2\" >0.109700</td>\n",
              "      <td id=\"T_6b401_row4_col3\" class=\"data row4 col3\" >0.224116</td>\n",
              "      <td id=\"T_6b401_row4_col4\" class=\"data row4 col4\" >0.093114</td>\n",
              "      <td id=\"T_6b401_row4_col5\" class=\"data row4 col5\" >0.190089</td>\n",
              "      <td id=\"T_6b401_row4_col6\" class=\"data row4 col6\" >0.385312</td>\n",
              "      <td id=\"T_6b401_row4_col7\" class=\"data row4 col7\" >0.276776</td>\n",
              "    </tr>\n",
              "    <tr>\n",
              "      <th id=\"T_6b401_level0_row5\" class=\"row_heading level0 row5\" >5</th>\n",
              "      <td id=\"T_6b401_row5_col0\" class=\"data row5 col0\" >0.103248</td>\n",
              "      <td id=\"T_6b401_row5_col1\" class=\"data row5 col1\" >0.302000</td>\n",
              "      <td id=\"T_6b401_row5_col2\" class=\"data row5 col2\" >0.101800</td>\n",
              "      <td id=\"T_6b401_row5_col3\" class=\"data row5 col3\" >0.194431</td>\n",
              "      <td id=\"T_6b401_row5_col4\" class=\"data row5 col4\" >0.073939</td>\n",
              "      <td id=\"T_6b401_row5_col5\" class=\"data row5 col5\" >0.159929</td>\n",
              "      <td id=\"T_6b401_row5_col6\" class=\"data row5 col6\" >0.333360</td>\n",
              "      <td id=\"T_6b401_row5_col7\" class=\"data row5 col7\" >0.221769</td>\n",
              "    </tr>\n",
              "    <tr>\n",
              "      <th id=\"T_6b401_level0_row6\" class=\"row_heading level0 row6\" >6</th>\n",
              "      <td id=\"T_6b401_row6_col0\" class=\"data row6 col0\" >0.151239</td>\n",
              "      <td id=\"T_6b401_row6_col1\" class=\"data row6 col1\" >0.450000</td>\n",
              "      <td id=\"T_6b401_row6_col2\" class=\"data row6 col2\" >0.134100</td>\n",
              "      <td id=\"T_6b401_row6_col3\" class=\"data row6 col3\" >0.303469</td>\n",
              "      <td id=\"T_6b401_row6_col4\" class=\"data row6 col4\" >0.119195</td>\n",
              "      <td id=\"T_6b401_row6_col5\" class=\"data row6 col5\" >0.259979</td>\n",
              "      <td id=\"T_6b401_row6_col6\" class=\"data row6 col6\" >0.469072</td>\n",
              "      <td id=\"T_6b401_row6_col7\" class=\"data row6 col7\" >0.310013</td>\n",
              "    </tr>\n",
              "    <tr>\n",
              "      <th id=\"T_6b401_level0_row7\" class=\"row_heading level0 row7\" >7</th>\n",
              "      <td id=\"T_6b401_row7_col0\" class=\"data row7 col0\" >0.153752</td>\n",
              "      <td id=\"T_6b401_row7_col1\" class=\"data row7 col1\" >0.460000</td>\n",
              "      <td id=\"T_6b401_row7_col2\" class=\"data row7 col2\" >0.090800</td>\n",
              "      <td id=\"T_6b401_row7_col3\" class=\"data row7 col3\" >0.246076</td>\n",
              "      <td id=\"T_6b401_row7_col4\" class=\"data row7 col4\" >0.120448</td>\n",
              "      <td id=\"T_6b401_row7_col5\" class=\"data row7 col5\" >0.246076</td>\n",
              "      <td id=\"T_6b401_row7_col6\" class=\"data row7 col6\" >0.444932</td>\n",
              "      <td id=\"T_6b401_row7_col7\" class=\"data row7 col7\" >0.308065</td>\n",
              "    </tr>\n",
              "    <tr>\n",
              "      <th id=\"T_6b401_level0_row8\" class=\"row_heading level0 row8\" >8</th>\n",
              "      <td id=\"T_6b401_row8_col0\" class=\"data row8 col0\" >0.354433</td>\n",
              "      <td id=\"T_6b401_row8_col1\" class=\"data row8 col1\" >0.960000</td>\n",
              "      <td id=\"T_6b401_row8_col2\" class=\"data row8 col2\" >0.174600</td>\n",
              "      <td id=\"T_6b401_row8_col3\" class=\"data row8 col3\" >0.751191</td>\n",
              "      <td id=\"T_6b401_row8_col4\" class=\"data row8 col4\" >0.352715</td>\n",
              "      <td id=\"T_6b401_row8_col5\" class=\"data row8 col5\" >0.746244</td>\n",
              "      <td id=\"T_6b401_row8_col6\" class=\"data row8 col6\" >0.831291</td>\n",
              "      <td id=\"T_6b401_row8_col7\" class=\"data row8 col7\" >0.751414</td>\n",
              "    </tr>\n",
              "    <tr>\n",
              "      <th id=\"T_6b401_level0_row9\" class=\"row_heading level0 row9\" >9</th>\n",
              "      <td id=\"T_6b401_row9_col0\" class=\"data row9 col0\" >0.151528</td>\n",
              "      <td id=\"T_6b401_row9_col1\" class=\"data row9 col1\" >0.448000</td>\n",
              "      <td id=\"T_6b401_row9_col2\" class=\"data row9 col2\" >0.118300</td>\n",
              "      <td id=\"T_6b401_row9_col3\" class=\"data row9 col3\" >0.251718</td>\n",
              "      <td id=\"T_6b401_row9_col4\" class=\"data row9 col4\" >0.103719</td>\n",
              "      <td id=\"T_6b401_row9_col5\" class=\"data row9 col5\" >0.216402</td>\n",
              "      <td id=\"T_6b401_row9_col6\" class=\"data row9 col6\" >0.424676</td>\n",
              "      <td id=\"T_6b401_row9_col7\" class=\"data row9 col7\" >0.299643</td>\n",
              "    </tr>\n",
              "  </tbody>\n",
              "</table>\n"
            ],
            "text/plain": [
              "<pandas.io.formats.style.Styler at 0x15d369c10>"
            ]
          },
          "execution_count": 51,
          "metadata": {},
          "output_type": "execute_result"
        }
      ],
      "source": [
        "def highlight_max(s):\n",
        "    \"\"\"\n",
        "    Takes a Series s and returns a Series with\n",
        "    the css property 'background-color: yellow'\n",
        "    for the maximum value in each row.\n",
        "    \"\"\"\n",
        "    is_max = s == s.max()\n",
        "    is_min = s == s.min()\n",
        "    return ['background-color: yellow' if v else \"\" for v in is_max]\n",
        "\n",
        "res[[col for col in res if col != 'name']].style.apply(highlight_max)"
      ]
    },
    {
      "cell_type": "code",
      "execution_count": null,
      "metadata": {},
      "outputs": [],
      "source": []
    }
  ],
  "metadata": {
    "colab": {
      "provenance": [],
      "toc_visible": true
    },
    "kernelspec": {
      "display_name": "Python 3.10.8 ('venv': venv)",
      "language": "python",
      "name": "python3"
    },
    "language_info": {
      "codemirror_mode": {
        "name": "ipython",
        "version": 3
      },
      "file_extension": ".py",
      "mimetype": "text/x-python",
      "name": "python",
      "nbconvert_exporter": "python",
      "pygments_lexer": "ipython3",
      "version": "3.11.6"
    },
    "vscode": {
      "interpreter": {
        "hash": "24d2ab99ccf85b8ac5f7145b4532ba5d501e827b75fb530eb8613a353f0c3edb"
      }
    }
  },
  "nbformat": 4,
  "nbformat_minor": 0
}
